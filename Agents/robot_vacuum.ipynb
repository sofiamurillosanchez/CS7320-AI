{
 "cells": [
  {
   "cell_type": "markdown",
   "metadata": {},
   "source": [
    "# Intelligent Agents: Reflex-Based Agents for the Vacuum-cleaner World\n",
    "\n",
    "\n",
    "## Instructions\n",
    "\n",
    "Total Points: Undergrads 100 / Graduate students 110\n",
    "\n",
    "Complete this notebook. Use the provided notebook cells and insert additional code and markdown cells as needed. Submit the completely rendered notebook as a PDF file. \n",
    "\n",
    "## Introduction\n",
    "\n",
    "In this assignment you will implement a simulator environment for an automatic vacuum cleaner robot, a set of different reflex-based agent programs, and perform a comparison study for cleaning a single room. Focus on the __cleaning phase__ which starts when the robot is activated and ends when the last dirty square in the room has been cleaned. Someone else will take care of the agent program needed to navigate back to the charging station after the room is clean.\n",
    "\n",
    "## PEAS description of the cleaning phase\n",
    "\n",
    "__Performance Measure:__ Each action costs 1 energy unit. The performance is measured as the sum of the energy units used to clean the whole room.\n",
    "\n",
    "__Environment:__ A room with $n \\times n$ squares where $n = 5$. Dirt is randomly placed on each square with probability $p = 0.2$. For simplicity, you can assume that the agent knows the size and the layout of the room (i.e., it knows $n$). To start, the agent is placed on a random square.\n",
    "\n",
    "__Actuators:__ The agent can clean the current square (action `suck`) or move to an adjacent square by going `north`, `east`, `south`, or `west`.\n",
    "\n",
    "__Sensors:__ Four bumper sensors, one for north, east, south, and west; a dirt sensor reporting dirt in the current square.  \n",
    "\n",
    "\n",
    "## The agent program for a simple randomized agent\n",
    "\n",
    "The agent program is a function that gets sensor information (the current percepts) as the arguments. The arguments are:\n",
    "\n",
    "* A dictionary with boolean entries for the for bumper sensors `north`, `east`, `west`, `south`. E.g., if the agent is on the north-west corner, `bumpers` will be `{\"north\" : True, \"east\" : False, \"south\" : False, \"west\" : True}`.\n",
    "* The dirt sensor produces a boolean.\n",
    "\n",
    "The agent returns the chosen action as a string.\n",
    "\n",
    "Here is an example implementation for the agent program of a simple randomized agent:  "
   ]
  },
  {
   "cell_type": "code",
   "execution_count": 1,
   "metadata": {},
   "outputs": [],
   "source": [
    "import numpy as np\n",
    "\n",
    "actions = [\"north\", \"east\", \"west\", \"south\", \"suck\"]\n",
    "\n",
    "def simple_randomized_agent(bumpers, dirty, verbose = True):\n",
    "    return np.random.choice(actions)"
   ]
  },
  {
   "cell_type": "code",
   "execution_count": 2,
   "metadata": {},
   "outputs": [
    {
     "data": {
      "text/plain": [
       "'east'"
      ]
     },
     "execution_count": 2,
     "metadata": {},
     "output_type": "execute_result"
    }
   ],
   "source": [
    "# define percepts (current location is NW corner and it is dirty)\n",
    "bumpers = {\"north\" : True, \"east\" : False, \"south\" : False, \"west\" : True}\n",
    "dirty = True\n",
    "\n",
    "# call agent program function with percepts and it returns an action\n",
    "simple_randomized_agent(bumpers, dirty, False)"
   ]
  },
  {
   "cell_type": "markdown",
   "metadata": {},
   "source": [
    "__Note:__ This is not a rational intelligent agent. It ignores its sensors and may bump into a wall repeatedly or not clean a dirty square. You will be asked to implement rational agents below."
   ]
  },
  {
   "cell_type": "markdown",
   "metadata": {},
   "source": [
    "## Simple environment example\n",
    "\n",
    "We implement a simple simulation environment that supplies the agent with its percepts.\n",
    "The simple environment is infinite in size (bumpers are always `False`) and every square is always dirty, even if the agent cleans it. The environment function returns a performance measure which is here the number of cleaned squares (since the room is infinite and all squares are constantly dirty, the agent can never clean the whole room as required in the PEAS description above). The energy budget of the agent is specified as `max_steps`. "
   ]
  },
  {
   "cell_type": "code",
   "execution_count": 3,
   "metadata": {},
   "outputs": [],
   "source": [
    "def simple_environment(agent, max_steps, verbose = True):\n",
    "    num_cleaned = 0\n",
    "    \n",
    "    for i in range(max_steps):\n",
    "        dirty = True\n",
    "        bumpers = {\"north\" : False, \"south\" : False, \"west\" : False, \"east\" : False}\n",
    "\n",
    "        action = agent(bumpers, dirty, True)\n",
    "        if (verbose): print(\"step\", i , \"- action:\", action) \n",
    "        \n",
    "        if (action == \"suck\"): \n",
    "            num_cleaned = num_cleaned + 1\n",
    "        \n",
    "    return num_cleaned\n",
    "        \n"
   ]
  },
  {
   "cell_type": "markdown",
   "metadata": {},
   "source": [
    "Do one simulation run with a simple randomized agent that has enough energy for 20 steps."
   ]
  },
  {
   "cell_type": "code",
   "execution_count": 4,
   "metadata": {},
   "outputs": [
    {
     "name": "stdout",
     "output_type": "stream",
     "text": [
      "step 0 - action: east\n",
      "step 1 - action: north\n",
      "step 2 - action: west\n",
      "step 3 - action: suck\n",
      "step 4 - action: west\n",
      "step 5 - action: suck\n",
      "step 6 - action: suck\n",
      "step 7 - action: north\n",
      "step 8 - action: west\n",
      "step 9 - action: south\n",
      "step 10 - action: south\n",
      "step 11 - action: north\n",
      "step 12 - action: east\n",
      "step 13 - action: suck\n",
      "step 14 - action: west\n",
      "step 15 - action: suck\n",
      "step 16 - action: west\n",
      "step 17 - action: south\n",
      "step 18 - action: north\n",
      "step 19 - action: south\n"
     ]
    },
    {
     "data": {
      "text/plain": [
       "5"
      ]
     },
     "execution_count": 4,
     "metadata": {},
     "output_type": "execute_result"
    }
   ],
   "source": [
    "simple_environment(simple_randomized_agent, max_steps = 20, verbose = True)"
   ]
  },
  {
   "cell_type": "markdown",
   "metadata": {},
   "source": [
    "# Tasks\n",
    "\n",
    "## General [10 Points]\n",
    "\n",
    "1. Make sure that you use the latest version of this notebook. Sync your forked repository and pull the latest revision. \n",
    "2. Your implementation can use libraries like math, numpy, scipy, but not libraries that implement inteligent agents or complete search algorithms. Try to keep the code simple! In this course, we want to learn about the algorithms and we often do not need to use object-oriented design.\n",
    "3. You notebook needs to be formated professionally. \n",
    "    - Add additional markdown blocks for your description, comments in the code, add tables and use mathplotlib to produce charts where appropriate\n",
    "    - Do not show debugging output or include an excessive amount of output.\n",
    "    - Check that your PDF file is readable. For example, long lines are cut off in the PDF file. You don't have control over page breaks, so do not worry about these.\n",
    "4. Document your code. Add a short discussion of how your implementation works and your design choices.\n",
    "\n",
    "\n",
    "## Task 1: Implement a simulation environment [20 Points]\n",
    "\n",
    "The simple environment above is not very realistic. Your environment simulator needs to follow the PEAS description from above. It needs to:\n",
    "\n",
    "* Initialize the environment by storing the state of each square (clean/dirty) and making some dirty. ([Help with random numbers and arrays in Python](https://github.com/mhahsler/CS7320-AI/blob/master/Python_Code_Examples/random_numbers_and_arrays.ipynb))\n",
    "* Keep track of the agent's position.\n",
    "* Call the agent function repeatedly and provide the agent function with the sensor inputs.  \n",
    "* React to the agent's actions. E.g, by removing dirt from a square or moving the agent around unless there is a wall in the way.\n",
    "* Keep track of the performance measure. That is, track the agent's actions until all dirty squares are clean and count the number of actions it takes the agent to complete the task.\n",
    "\n",
    "The easiest implementation for the environment is to hold an 2-dimensional array to represent if squares are clean or dirty and to call the agent function in a loop until all squares are clean or a predefined number of steps have been reached (i.e., the robot runs out of energy).\n",
    "\n",
    "The simulation environment should be a function like the `simple_environment()` and needs to work with the simple randomized agent program from above. **Use the same environmnt for all your agent implementations in the tasks below.**\n",
    "\n",
    "*Note on debugging:* Debugging is difficult. Make sure your environment prints enough information when you use `verbose = True`. Also, implementing a function that the environment can use to displays the room with dirt and the current position of the robot at every step is very useful.  "
   ]
  },
  {
   "cell_type": "markdown",
   "metadata": {},
   "source": [
    "## Bumper Sensors\n",
    "\n",
    "The bumper sensors identify whether the vacuum has a reached a wall or a corner based on its location. The default value is set as false and is returned unless if the bumpers are activated by a specific location.\n",
    "\n",
    "I made these sensors a separate function that returns the bumpers to the simulation environment when called.\n",
    "    \n",
    "    \n",
    "__**Worth noting:** Bumpers that are strictly one direction (i.e. just north) mean that the vacuum hit a wall but not a corner.__"
   ]
  },
  {
   "cell_type": "code",
   "execution_count": 5,
   "metadata": {},
   "outputs": [],
   "source": [
    "def bumper_sensors(nx, ny, position_x, position_y, verbose = True):\n",
    "    \n",
    "    bumpers = {\"north\": False, \"south\": False, \"west\": False, \"east\": False}\n",
    "    \n",
    "    # If East\n",
    "    if(position_x == nx-1):\n",
    "        # If Northeast\n",
    "        if(position_y == 0):\n",
    "            return {\"north\" : True, \"south\" : False, \"west\" : False, \"east\" : True}\n",
    "        \n",
    "        # If Southeast\n",
    "        elif(position_y == ny-1):\n",
    "            return {\"north\" : False, \"south\" : True, \"west\" : False, \"east\" : True}\n",
    "        \n",
    "        # If Only East\n",
    "        else:\n",
    "            return {\"north\" : False, \"south\" : False, \"west\" : False, \"east\" : True}\n",
    "    \n",
    "    # If West\n",
    "    elif(position_x == 0):\n",
    "        if(position_y == 0):\n",
    "            return {\"north\" : True, \"south\" : False, \"west\" : True, \"east\" : False}\n",
    "        elif(position_y == ny-1):\n",
    "            return {\"north\" : False, \"south\" : True, \"west\" : True, \"east\" : False}\n",
    "        else:\n",
    "            return{ \"north\" : False, \"south\" : False, \"west\" : True, \"east\" : False}\n",
    "    \n",
    "    # If only North or only South\n",
    "    if(position_y == 0):\n",
    "        return {\"north\" : True, \"south\" : False, \"west\" : False, \"east\" : False}\n",
    "    elif(position_y == ny-1):\n",
    "        return{\"north\" : False, \"south\" : True, \"west\" : False, \"east\" : False}\n",
    "\n",
    "    return bumpers"
   ]
  },
  {
   "cell_type": "markdown",
   "metadata": {},
   "source": [
    "## Simulation Environment\n",
    "\n",
    "To summarize the simulation environment I created, it essentially creates the environment with nxn number of squares. It generates a random starting position for the agent used and also assigns a random assortment of squares as either clean or dirty (clean = True, dirty = False). From there, it reacts to the actions outputted by the agent by either cleaning, staying if the square is already clean, or moving to the next square in the direction the agent indicates.\n",
    "\n",
    "This simulation environment runs until the entire room is clean.\n",
    "\n",
    "\n",
    "### The Simulation Environment I created keeps track of the following things:\n",
    "1. Number of dirty squares\n",
    "2. Starting position of vacuum\n",
    "3. Bumper sensors\n",
    "4. Dirt sensors\n",
    "5. Total number of squares cleaned \n",
    "6. **Performance Measure:** Total number of actions (1 action = 1 energy unit)Total number of squares cleaned "
   ]
  },
  {
   "cell_type": "code",
   "execution_count": 6,
   "metadata": {},
   "outputs": [],
   "source": [
    "# Your code and description goes here\n",
    "def simulation_environment(agent, nx, ny, verbose = True): \n",
    "    num_cleaned = 0 # Keeping track of swaures cleaned\n",
    "    num_actions_total = 0\n",
    "    rng = np.random.default_rng() # create random number generator\n",
    "    p = 0.2 # use given probability from instructions\n",
    "    squares = [[rng.random() < p for x in range(nx)] for y in range(ny)] # intitalize squares array w/ clean and dirty squares\n",
    "    count_dirty = np.count_nonzero(squares) # count number of dirty squares\n",
    "    print(\"Number of dirty squares:\")\n",
    "    print(count_dirty)\n",
    "    \n",
    "    # Print the squares. True = Dirty, False = Clean\n",
    "    print(\"Before: \")\n",
    "    for x in squares:\n",
    "        print(x)\n",
    "    \n",
    "    # Randomly generate starting position of vacuum\n",
    "    position_x = rng.integers(low = 0, high = nx-1)\n",
    "    position_y = rng.integers(low = 0, high = ny-1)\n",
    "    \n",
    "    # Get dirt status of starting position\n",
    "    dirty = squares[position_x][position_y]\n",
    "    \n",
    "    # Receive bumper information based on starting position\n",
    "    bumpers = bumper_sensors(nx, ny, position_x, position_y)\n",
    "    print(\"\\n\",bumpers, \"\\n\")\n",
    "    \n",
    "    while(count_dirty > 0):\n",
    "        action = agent(bumpers, dirty, verbose)\n",
    "        \n",
    "        if (action == \"suck\" and squares[position_x][position_y] == True):\n",
    "            squares[position_x][position_y] = False\n",
    "            dirty = False\n",
    "            num_cleaned = num_cleaned + 1\n",
    "            count_dirty = np.count_nonzero(squares)\n",
    "        elif (action == \"suck\" and squares[position_x][position_y] == False):\n",
    "            action = \"already clean - stay in position\"\n",
    "        \n",
    "        elif(action == \"west\"):\n",
    "            position_x -= 1\n",
    "            if(position_x < 0):\n",
    "                if(verbose): print(\"Environment: Attempted to move beyond wall. Blocked.\")\n",
    "                position_x = 0\n",
    "            \n",
    "        elif(action == \"east\"):\n",
    "            position_x += 1\n",
    "            if(position_x > nx-1):\n",
    "                if(verbose): print(\"Environment: Attempted to move beyond wall. Blocked.\")\n",
    "                position_x = nx-1\n",
    "            \n",
    "\n",
    "        elif(action == \"north\"):\n",
    "            position_y -= 1\n",
    "            if(position_y < 0):\n",
    "                if(verbose): print(\"Environment: Attempted to move beyond wall. Blocked.\")\n",
    "                position_y = 0\n",
    "                \n",
    "        elif(action == \"south\"):\n",
    "            position_y += 1\n",
    "            if(position_y > ny-1):\n",
    "                if(verbose): print(\"Environment: Attempted to move beyond wall. Blocked.\")\n",
    "                position_y = ny-1\n",
    "        \n",
    "        if (verbose): print(\"Environment: Step\", num_actions_total , \"- action:\", action, \" position before action: (\", position_x, \",\", position_y, \")\")\n",
    "        \n",
    "        num_actions_total += 1\n",
    "        dirty = squares[position_x][position_y]\n",
    "        bumpers = bumper_sensors(nx, ny, position_x, position_y)\n",
    "        count_dirty = np.count_nonzero(squares)\n",
    "        \n",
    "    print(\"\\nTotal number of actions: \", num_actions_total, \"\\n\")\n",
    "    print(\"After: \")\n",
    "    for x in squares:\n",
    "        print(x)\n",
    "\n",
    "    print(\"Final Position - (\", position_x, \",\", position_y, \")\")\n",
    "    print(\"Number of squares cleaned: \", num_cleaned)    \n",
    "    return num_actions_total\n",
    "        \n",
    "    \n"
   ]
  },
  {
   "cell_type": "code",
   "execution_count": 7,
   "metadata": {},
   "outputs": [
    {
     "name": "stdout",
     "output_type": "stream",
     "text": [
      "Number of dirty squares:\n",
      "2\n",
      "Before: \n",
      "[True, False, False, False, False]\n",
      "[False, False, False, False, False]\n",
      "[True, False, False, False, False]\n",
      "[False, False, False, False, False]\n",
      "[False, False, False, False, False]\n",
      "\n",
      " {'north': False, 'south': False, 'west': False, 'east': False} \n",
      "\n",
      "\n",
      "Total number of actions:  129 \n",
      "\n",
      "After: \n",
      "[False, False, False, False, False]\n",
      "[False, False, False, False, False]\n",
      "[False, False, False, False, False]\n",
      "[False, False, False, False, False]\n",
      "[False, False, False, False, False]\n",
      "Final Position - ( 2 , 0 )\n",
      "Number of squares cleaned:  2\n"
     ]
    },
    {
     "data": {
      "text/plain": [
       "129"
      ]
     },
     "execution_count": 7,
     "metadata": {},
     "output_type": "execute_result"
    }
   ],
   "source": [
    "simulation_environment(simple_randomized_agent, 5, 5, False)"
   ]
  },
  {
   "cell_type": "markdown",
   "metadata": {},
   "source": [
    "## Task 2:  Implement a simple reflex agent [10 Points] \n",
    "\n",
    "The simple reflex agent randomly walks around but reacts to the bumper sensor by not bumping into the wall and to dirt with sucking. Implement the agent program as a function.\n",
    "\n",
    "_Note:_ Agents cannot directly use variable in the environment. They only gets the percepts as the arguments to the agent function."
   ]
  },
  {
   "cell_type": "code",
   "execution_count": 8,
   "metadata": {},
   "outputs": [],
   "source": [
    "# Your code and description goes here\n",
    "def simple_reflex_agent(bumpers, dirty, verbose):\n",
    "    # If the square is dirty, immediately return suck\n",
    "    if(dirty == True):\n",
    "        if(verbose): print(\"\\tAgent: Found a dirty square... GROSS... Cleaning now\")\n",
    "        return \"suck\" # return suck\n",
    "\n",
    "    # Otherwise, return a random directional action\n",
    "    if(verbose): print(\"\\tAgent: Moving randomly until dirt is found or wall is found!\")\n",
    "    return np.random.choice([\"north\", \"south\", \"east\", \"west\"])"
   ]
  },
  {
   "cell_type": "code",
   "execution_count": 9,
   "metadata": {},
   "outputs": [
    {
     "name": "stdout",
     "output_type": "stream",
     "text": [
      "Number of dirty squares:\n",
      "6\n",
      "Before: \n",
      "[False, False, False, True, True]\n",
      "[False, False, True, False, False]\n",
      "[True, False, False, True, True]\n",
      "[False, False, False, False, False]\n",
      "[False, False, False, False, False]\n",
      "\n",
      " {'north': False, 'south': False, 'west': True, 'east': False} \n",
      "\n",
      "\n",
      "Total number of actions:  42 \n",
      "\n",
      "After: \n",
      "[False, False, False, False, False]\n",
      "[False, False, False, False, False]\n",
      "[False, False, False, False, False]\n",
      "[False, False, False, False, False]\n",
      "[False, False, False, False, False]\n",
      "Final Position - ( 2 , 3 )\n",
      "Number of squares cleaned:  6\n"
     ]
    },
    {
     "data": {
      "text/plain": [
       "42"
      ]
     },
     "execution_count": 9,
     "metadata": {},
     "output_type": "execute_result"
    }
   ],
   "source": [
    "simulation_environment(simple_reflex_agent, 5, 5, False)"
   ]
  },
  {
   "cell_type": "markdown",
   "metadata": {},
   "source": [
    "## Task 3: Implement a model-based reflex agent [20 Points]\n",
    "\n",
    "Model-based agents use a state to keep track of what they have done and perceived so far. Your agent needs to find out where it is located and then keep track of its current location. You also need a set of rules based on the state and the percepts to make sure that the agent will clean the whole room. For example, the agent can move to a corner to determine its location and then it can navigate through the whole room and clean dirty squares.\n",
    "\n",
    "Describe how you define the __agent state__ and how your agent works before implementing it. ([Help with implementing state information on Python](https://github.com/mhahsler/CS7320-AI/blob/master/Python_Code_Examples/store_agent_state_information.ipynb))"
   ]
  },
  {
   "cell_type": "code",
   "execution_count": 10,
   "metadata": {},
   "outputs": [],
   "source": [
    "# Your short description of the state and your implementation goes here\n",
    "# Going into the room, the agent will assume that the entire room is dirty...\n"
   ]
  },
  {
   "cell_type": "code",
   "execution_count": 11,
   "metadata": {},
   "outputs": [],
   "source": [
    "phase_one = False\n",
    "cleaned = []\n",
    "row = -1\n",
    "col = -1\n",
    "direction = \"east\"\n",
    "\n",
    "def Model_Based_Reflex(bumpers, dirty, verbose):\n",
    "    global phase_one\n",
    "    global direction\n",
    "    global clean\n",
    "    global row\n",
    "    global col\n",
    "\n",
    "    if(phase_one == False):\n",
    "        if(bumpers.get(\"north\") == True and bumpers.get(\"west\") == True):\n",
    "            phase_one = True\n",
    "            print(\"\\tAgent: Position 0 Reached! Phase One Complete. Will now begin Phase 2: Cleaning.\")\n",
    "            row = 0\n",
    "            col = 0\n",
    "            if(dirty):\n",
    "                print(\"\\tAgent: Found a dirty square... GROSS... Cleaning now\")\n",
    "                return \"suck\"\n",
    "            else: \n",
    "                print(\"\\tAgent: Moving to next corner!\")\n",
    "                return \"east\"\n",
    "        if(bumpers.get(\"north\") == False):\n",
    "            print(\"\\tAgent: Moving to Position 0 (Northwest Corner)\\n\\tMoving...\")\n",
    "            return \"north\"\n",
    "        elif(bumpers.get(\"west\") == False):\n",
    "            print(\"\\tAgent: Moving to Position 0 (Northwest Corner)\\n\\tMoving...\")\n",
    "            return \"west\"\n",
    "\n",
    "    else: \n",
    "        if(dirty):\n",
    "            if(verbose): print(\"\\tAgent: Found a dirty square... GROSS... Cleaning now\")\n",
    "            cleaned.append([row, col])\n",
    "            return \"suck\"\n",
    "        else:\n",
    "            if(not(bumpers.get(direction))):\n",
    "                if(direction == \"east\"):\n",
    "                    if(verbose): print(\"\\tAgent: Moving to east wall\")\n",
    "                    col += 1\n",
    "                else:\n",
    "                    if(verbose): print(\"\\tAgent: Moving to west wall\")\n",
    "                    col -= 1\n",
    "                return direction\n",
    "            else:\n",
    "                if(direction == \"east\"):\n",
    "                    if(verbose): print(\"\\tAgent: Wall reached! Moving south and continuing west.\")\n",
    "                    direction = \"west\"\n",
    "                else:\n",
    "                    if(verbose): print(\"\\tAgent: Wall reached! Moving south and continuing east.\")\n",
    "                    direction = \"east\"\n",
    "                row += 1\n",
    "                return \"south\"\n",
    "\n",
    "        moving = True"
   ]
  },
  {
   "cell_type": "code",
   "execution_count": 12,
   "metadata": {},
   "outputs": [
    {
     "name": "stdout",
     "output_type": "stream",
     "text": [
      "Number of dirty squares:\n",
      "1\n",
      "Before: \n",
      "[False, False, False, False, False]\n",
      "[False, False, False, False, False]\n",
      "[False, False, False, False, False]\n",
      "[False, True, False, False, False]\n",
      "[False, False, False, False, False]\n",
      "\n",
      " {'north': True, 'south': False, 'west': False, 'east': False} \n",
      "\n",
      "\tAgent: Moving to Position 0 (Northwest Corner)\n",
      "\tMoving...\n",
      "\tAgent: Position 0 Reached! Phase One Complete. Will now begin Phase 2: Cleaning.\n",
      "\tAgent: Moving to next corner!\n",
      "\n",
      "Total number of actions:  8 \n",
      "\n",
      "After: \n",
      "[False, False, False, False, False]\n",
      "[False, False, False, False, False]\n",
      "[False, False, False, False, False]\n",
      "[False, False, False, False, False]\n",
      "[False, False, False, False, False]\n",
      "Final Position - ( 3 , 1 )\n",
      "Number of squares cleaned:  1\n"
     ]
    },
    {
     "data": {
      "text/plain": [
       "8"
      ]
     },
     "execution_count": 12,
     "metadata": {},
     "output_type": "execute_result"
    }
   ],
   "source": [
    "simulation_environment(Model_Based_Reflex, 5, 5, False)"
   ]
  },
  {
   "cell_type": "markdown",
   "metadata": {},
   "source": [
    "## Task 4: Simulation study [30 Points]\n",
    "\n",
    "Compare the performance (the performance measure is defined in the PEAS description above) of the agents using  environments of different size. E.g., $5 \\times 5$, $10 \\times 10$ and\n",
    "$100 \\times 100$. Use 100 random runs for each. Present the results using tables and graphs. Discuss the differences between the agents. \n",
    "([Help with charts and tables in Python](https://github.com/mhahsler/CS7320-AI/blob/master/Python_Code_Examples/charts_and_tables.ipynb))"
   ]
  },
  {
   "cell_type": "code",
   "execution_count": 13,
   "metadata": {},
   "outputs": [],
   "source": [
    "# Your code goes here\n",
    "import seaborn as sns"
   ]
  },
  {
   "cell_type": "code",
   "execution_count": null,
   "metadata": {},
   "outputs": [
    {
     "name": "stdout",
     "output_type": "stream",
     "text": [
      "Random Environment Size:  10\n",
      "\n",
      "Current Agent - Simple Randomized\n",
      "Number of dirty squares:\n",
      "25\n",
      "Before: \n",
      "[False, False, False, False, True, False, True, False, False, True]\n",
      "[False, False, False, True, False, False, False, False, False, False]\n",
      "[False, True, False, False, False, False, True, False, False, False]\n",
      "[False, False, False, False, True, False, False, False, False, False]\n",
      "[False, False, False, False, False, False, True, False, False, False]\n",
      "[False, False, False, True, True, False, False, False, False, True]\n",
      "[False, False, False, True, False, False, True, False, False, False]\n",
      "[False, True, True, False, False, False, False, False, False, True]\n",
      "[False, True, True, True, True, True, True, False, True, True]\n",
      "[False, False, False, False, False, True, False, False, False, False]\n",
      "\n",
      " {'north': False, 'south': False, 'west': False, 'east': False} \n",
      "\n",
      "\n",
      "Total number of actions:  2159 \n",
      "\n",
      "After: \n",
      "[False, False, False, False, False, False, False, False, False, False]\n",
      "[False, False, False, False, False, False, False, False, False, False]\n",
      "[False, False, False, False, False, False, False, False, False, False]\n",
      "[False, False, False, False, False, False, False, False, False, False]\n",
      "[False, False, False, False, False, False, False, False, False, False]\n",
      "[False, False, False, False, False, False, False, False, False, False]\n",
      "[False, False, False, False, False, False, False, False, False, False]\n",
      "[False, False, False, False, False, False, False, False, False, False]\n",
      "[False, False, False, False, False, False, False, False, False, False]\n",
      "[False, False, False, False, False, False, False, False, False, False]\n",
      "Final Position - ( 1 , 3 )\n",
      "Number of squares cleaned:  25\n",
      "\n",
      "**************************************************\n",
      "\n",
      "\n",
      "Current Agent - Simple Reflez\n",
      "Number of dirty squares:\n",
      "28\n",
      "Before: \n",
      "[False, True, False, False, False, True, False, True, True, False]\n",
      "[True, False, True, False, False, True, False, False, False, False]\n",
      "[False, False, False, False, False, False, False, True, False, False]\n",
      "[False, False, True, False, True, False, True, True, False, False]\n",
      "[False, False, True, False, False, True, False, True, False, False]\n",
      "[True, False, True, False, False, False, False, False, False, False]\n",
      "[False, True, True, False, False, False, False, False, False, False]\n",
      "[True, False, False, True, False, False, False, False, False, False]\n",
      "[False, False, False, False, True, False, False, True, True, False]\n",
      "[False, False, True, False, False, False, True, True, False, True]\n",
      "\n",
      " {'north': False, 'south': False, 'west': False, 'east': False} \n",
      "\n",
      "\n",
      "Total number of actions:  783 \n",
      "\n",
      "After: \n",
      "[False, False, False, False, False, False, False, False, False, False]\n",
      "[False, False, False, False, False, False, False, False, False, False]\n",
      "[False, False, False, False, False, False, False, False, False, False]\n",
      "[False, False, False, False, False, False, False, False, False, False]\n",
      "[False, False, False, False, False, False, False, False, False, False]\n",
      "[False, False, False, False, False, False, False, False, False, False]\n",
      "[False, False, False, False, False, False, False, False, False, False]\n",
      "[False, False, False, False, False, False, False, False, False, False]\n",
      "[False, False, False, False, False, False, False, False, False, False]\n",
      "[False, False, False, False, False, False, False, False, False, False]\n",
      "Final Position - ( 1 , 0 )\n",
      "Number of squares cleaned:  28\n",
      "\n",
      "**************************************************\n",
      "\n",
      "\n",
      "Current Agent - Model-Based Reflex\n",
      "Number of dirty squares:\n",
      "20\n",
      "Before: \n",
      "[True, False, False, False, True, False, False, False, False, False]\n",
      "[True, False, False, False, True, False, False, True, False, False]\n",
      "[False, False, False, False, False, False, True, False, False, True]\n",
      "[False, False, True, False, False, False, True, False, False, False]\n",
      "[False, False, False, False, True, False, True, False, False, False]\n",
      "[False, False, True, False, False, True, False, True, False, False]\n",
      "[False, False, False, False, False, True, False, False, False, False]\n",
      "[False, False, True, False, True, False, False, False, False, False]\n",
      "[False, False, True, False, True, False, False, False, True, False]\n",
      "[False, False, False, False, False, False, False, False, False, False]\n",
      "\n",
      " {'north': False, 'south': False, 'west': True, 'east': False} \n",
      "\n"
     ]
    }
   ],
   "source": [
    "environment_sizes = [5, 10, 100]\n",
    "\n",
    "simple_random = []\n",
    "simple_reflex = []\n",
    "model_reflex = []\n",
    "\n",
    "for x in range(100):\n",
    "    n = np.random.choice(environment_sizes)\n",
    "    print(\"Random Environment Size: \", n)\n",
    "    \n",
    "    print(\"\\nCurrent Agent - Simple Randomized\")\n",
    "    simple_random.append([n, simulation_environment(simple_randomized_agent, n, n, verbose = False)])\n",
    "    print(\"\\n**************************************************\\n\")\n",
    "    \n",
    "    print(\"\\nCurrent Agent - Simple Reflez\")\n",
    "    simple_reflex.append([n, simulation_environment(simple_reflex_agent, n, n, verbose = False)])\n",
    "    print(\"\\n**************************************************\\n\")\n",
    "    \n",
    "    print(\"\\nCurrent Agent - Model-Based Reflex\")\n",
    "    model_reflex.append([n, simulation_environment(Model_Based_Reflex, n, n, verbose = False)])\n",
    "    print(\"\\n**************************************************\\n\")\n",
    "    \n"
   ]
  },
  {
   "cell_type": "code",
   "execution_count": null,
   "metadata": {},
   "outputs": [],
   "source": [
    "d_srandom = {}\n",
    "d_sreflex = {}\n",
    "d_mreflex = {}\n",
    "\n",
    "for tuple in simple_random:\n",
    "    key,val = tuple\n",
    "    d_srandom.setdefault(key, []).append(val)\n",
    "for tuple in simple_reflex:\n",
    "    key,val = tuple\n",
    "    d_sreflex.setdefault(key, []).append(val)\n",
    "for tuple in model_reflex:\n",
    "    key,val = tuple\n",
    "    d_mreflex.setdefault(key, []).append(val)\n",
    "\n",
    "    \n",
    "print(\"Simple Randomized Agent Results: \")\n",
    "for name, values in d_srandom.items():\n",
    "    print(\"\\t{name} {avg}\".format(name=name, avg=sum(values)/len(values)))\n",
    "    \n",
    "print(\"Simple Reflex Agent Results: \")\n",
    "for name, values in d_sreflex.items():\n",
    "    print(\"\\t{name} {avg}\".format(name=name, avg=sum(values)/len(values)))\n",
    "    \n",
    "print(\"Model-based Reflex Agent Results: \")\n",
    "for name, values in d_mreflex.items():\n",
    "    print(\"\\t{name} {avg}\".format(name=name, avg=sum(values)/len(values)))"
   ]
  },
  {
   "cell_type": "markdown",
   "metadata": {},
   "source": [
    "Fill out the following table with the average performance measure for 100 random runs (you may also create this table with code):\n",
    "\n",
    "| Size     | Randomized Agent | Simple Reflex Agent | Model-based Reflex Agent |\n",
    "|----------|------------------|---------------------|--------------------------|\n",
    "| 5x5     | | | |\n",
    "| 10x10   | | | |\n",
    "| 100x100 | | | |\n",
    "\n",
    "Add charts to compare the performance of the different agents."
   ]
  },
  {
   "cell_type": "code",
   "execution_count": null,
   "metadata": {},
   "outputs": [],
   "source": [
    "simple_random_transposed = simple_random.T\n",
    "simple_reflex_transposed = simple_reflex.T\n",
    "model_reflex_transposed = model_reflex.T\n",
    "\n",
    "x, y_simple = simple_random_transposed\n",
    "x1, y_reflex = simple_reflex_transposed\n",
    "x2, y_model = model_reflex_transposed\n",
    "\n",
    "plt.plot(x, reflex, label='Simple Random Agent')\n",
    "plt.plot(x1, y_reflex, label='Simple Reflex Agent')\n",
    "plt.plot(x2, y_model, label= \"Model Reflex Agent\")"
   ]
  },
  {
   "cell_type": "code",
   "execution_count": null,
   "metadata": {},
   "outputs": [],
   "source": [
    "# Your graphs and discussion of the results goes here"
   ]
  },
  {
   "cell_type": "markdown",
   "metadata": {},
   "source": [
    "## Task 5: Robustness of the agent implementations [10 Points] \n",
    "\n",
    "Describe how **your agent implementations** will perform \n",
    "\n",
    "* if it is put into a rectangular room with unknown size, \n",
    "* if the cleaning area can have an iregular shape (e.g., a hallway connecting two rooms), or \n",
    "* if the room contains obstacles (i.e., squares that it cannot pass through and trigger the bumper sensors)."
   ]
  },
  {
   "cell_type": "code",
   "execution_count": null,
   "metadata": {},
   "outputs": [],
   "source": [
    "# Answer goes here\n",
    "# https://www.explainthatstuff.com/how-roomba-works.html\n",
    "# Roombas work by wall following and wall bouncing (aka randomly cleaning until an object is hit...)"
   ]
  },
  {
   "cell_type": "markdown",
   "metadata": {},
   "source": [
    "## Graduate student advanced task: Obstacles [10 Points]\n",
    "\n",
    "__Undergraduate students:__ This is a bonus task you can attempt if you like [+5 Bonus Points].\n",
    "\n",
    "1. Change your simulation environment tor run experiments for the following problem: Add random obstacle squares that also trigger the bumper sensor. The agent does not know where the obstacles are. Observe how this changes the performance of the three implementations.\n",
    "\n",
    "2. Describe what would need to be done to perform better with obstacles. Add code if you can. "
   ]
  },
  {
   "cell_type": "code",
   "execution_count": null,
   "metadata": {},
   "outputs": [],
   "source": [
    "# Your code and discussion goes here"
   ]
  },
  {
   "cell_type": "markdown",
   "metadata": {},
   "source": [
    "## More advanced implementation tasks\n",
    "\n",
    "* __Agent for and environment with obstacles:__ Implement an agent for an environment where the agent does not know how large the environment is (we assume it is rectangular), where it starts or where the obstacles are. An option would be to always move to the closest unchecked/uncleaned square (note that this is actualy depth-first search).\n",
    "\n",
    "* __Utility-based agent:__ Change the environment for a $5 \\times 5$ room, so each square has a fixed probability of getting dirty again. For the implementation, we give the environment a 2-dimensional array of probabilities. The utility of a state is defined as the number of currebntly clean squares in the room. Implement a utility-based agent that maximizes the expected utility over one full charge which lasts for 100000 time steps. To do this, the agent needs to learn the probabilities with which different squares get dirty again. This is very tricky!"
   ]
  },
  {
   "cell_type": "code",
   "execution_count": null,
   "metadata": {},
   "outputs": [],
   "source": [
    "# Your ideas/code"
   ]
  }
 ],
 "metadata": {
  "interpreter": {
   "hash": "b0fa6594d8f4cbf19f97940f81e996739fb7646882a419484c72d19e05852a7e"
  },
  "kernelspec": {
   "display_name": "Python 3 (ipykernel)",
   "language": "python",
   "name": "python3"
  },
  "language_info": {
   "codemirror_mode": {
    "name": "ipython",
    "version": 3
   },
   "file_extension": ".py",
   "mimetype": "text/x-python",
   "name": "python",
   "nbconvert_exporter": "python",
   "pygments_lexer": "ipython3",
   "version": "3.9.7"
  },
  "toc-autonumbering": false
 },
 "nbformat": 4,
 "nbformat_minor": 4
}
