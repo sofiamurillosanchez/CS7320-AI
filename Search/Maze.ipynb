{
 "cells": [
  {
   "cell_type": "markdown",
   "metadata": {},
   "source": [
    "# Search: Solving a Maze Using a Goal-based Agent\n",
    "\n",
    "## Instructions\n",
    "\n",
    "Total Points: Undergrads 100 / Graduate students 110\n",
    "\n",
    "Complete this notebook. Use the provided notebook cells and insert additional code and markdown cells as needed. Submit the completely rendered notebook as a PDF file. \n",
    "\n",
    "\n",
    "## Introduction\n",
    "\n",
    "The agent has a map of the maze it is in and the environment is assumed to be **deterministic, discrete, and known.** The agent must use the map to plan a path through the maze from the starting location $S$ to the goal location $G$.  This is a planing exercise for a goal-based agent, so you do not need to implement an environment, just use the map to search for a path. Once the plan is made, the agent in a deterministic environment (i.e., the transition function is deterministic with the outcome of each state/action pair fixed and no randomness) can just follow the path and does not need to care about the percepts.\n",
    "This is also called an **[open-loop system](https://en.wikipedia.org/wiki/Open-loop_controller).**\n",
    "The execution phase is trivial and we do not implement it in this exercise.\n",
    "\n",
    "Tree search algorithm implementations that you find online and used in general algorithms courses have often a different aim. These algorithms assume that you already have a tree in memory. We are interested in dynamically creating a search tree with the aim of finding a good/the best path from the root noteto the goal state. Follow the pseudo code presented in the text book (and replicated in the slides) closely. Ideally, we would like to search only a small part of the maze, i.e., create a search tree with as few nodes as possible. \n",
    "\n",
    "Several mazes for this exercise are stored as text files. Here is the small example maze:"
   ]
  },
  {
   "cell_type": "code",
   "execution_count": 1,
   "metadata": {},
   "outputs": [
    {
     "name": "stdout",
     "output_type": "stream",
     "text": [
      "XXXXXXXXXXXXXXXXXXXXXX\n",
      "X XX        X X      X\n",
      "X    XXXXXX X XXXXXX X\n",
      "XXXXXX     S  X      X\n",
      "X    X XXXXXX XX XXXXX\n",
      "X XXXX X         X   X\n",
      "X        XXX XXX   X X\n",
      "XXXXXXXXXX    XXXXXX X\n",
      "XG         XX        X\n",
      "XXXXXXXXXXXXXXXXXXXXXX\n",
      "\n"
     ]
    }
   ],
   "source": [
    "with open(\"small_maze.txt\", \"r\") as f:\n",
    "    maze_str = f.read()\n",
    "print(maze_str)"
   ]
  },
  {
   "cell_type": "markdown",
   "metadata": {},
   "source": [
    "__Note:__ The mazes above contains cycles and therefore the state space may not form proper trees unless cycles are prevented. Therfore, you will need to deal with cycle detection in your code."
   ]
  },
  {
   "cell_type": "markdown",
   "metadata": {},
   "source": [
    "## Parsing and pretty printing the maze\n",
    "\n",
    "The maze can also be displayed in color using code in the module [maze_helper.py](maze_helper.py). The code parses the string representing the maze and converts it into a `numpy` 2d array which you can use in your implementation. Position are represented as a 2-tuple of the form `(row, col)`. "
   ]
  },
  {
   "cell_type": "code",
   "execution_count": 2,
   "metadata": {
    "tags": []
   },
   "outputs": [
    {
     "name": "stdout",
     "output_type": "stream",
     "text": [
      "Position(0,0): X\n",
      "Position(8,1): G\n"
     ]
    }
   ],
   "source": [
    "import maze_helper as mh\n",
    "\n",
    "maze = mh.parse_maze(maze_str)\n",
    "\n",
    "# look at a position in the maze by subsetting the 2d array\n",
    "print(\"Position(0,0):\", maze[0, 0])\n",
    "\n",
    "# there is also a helper function called `look(maze, pos)` available\n",
    "# which uses a 2-tuple for the position.\n",
    "print(\"Position(8,1):\", mh.look(maze, (8, 1)))"
   ]
  },
  {
   "cell_type": "markdown",
   "metadata": {},
   "source": [
    "A helper function to visualize the maze is also available."
   ]
  },
  {
   "cell_type": "code",
   "execution_count": 3,
   "metadata": {},
   "outputs": [
    {
     "data": {
      "image/png": "[encoded data removed]",
      "text/plain": [
       "<Figure size 432x288 with 1 Axes>"
      ]
     },
     "metadata": {
      "image/png": {
       "height": 183,
       "width": 362
      },
      "needs_background": "light"
     },
     "output_type": "display_data"
    }
   ],
   "source": [
    "%matplotlib inline\n",
    "%config InlineBackend.figure_format = 'retina'\n",
    "# use higher resolution images in notebook\n",
    "\n",
    "mh.show_maze(maze)"
   ]
  },
  {
   "cell_type": "markdown",
   "metadata": {},
   "source": [
    "Find the position of the start and the goal using the helper function `find_pos()`"
   ]
  },
  {
   "cell_type": "code",
   "execution_count": 4,
   "metadata": {},
   "outputs": [
    {
     "name": "stdout",
     "output_type": "stream",
     "text": [
      "Start location: (3, 11)\n",
      "Goal location: (8, 1)\n"
     ]
    }
   ],
   "source": [
    "print(\"Start location:\", mh.find_pos(maze, what = \"S\"))\n",
    "print(\"Goal location:\", mh.find_pos(maze, what = \"G\"))"
   ]
  },
  {
   "cell_type": "markdown",
   "metadata": {},
   "source": [
    "Helper function documentation."
   ]
  },
  {
   "cell_type": "code",
   "execution_count": 5,
   "metadata": {},
   "outputs": [
    {
     "name": "stdout",
     "output_type": "stream",
     "text": [
      "Help on module maze_helper:\n",
      "\n",
      "NAME\n",
      "    maze_helper\n",
      "\n",
      "DESCRIPTION\n",
      "    Code for the Maze Assignment by Michael Hahsler\n",
      "    Usage: \n",
      "        import maze_helper as mh\n",
      "        mh.show_some_mazes()\n",
      "\n",
      "FUNCTIONS\n",
      "    find_pos(maze, what='S')\n",
      "        Find start/goal in a maze and returns the first one. \n",
      "        Caution: there is no error checking!\n",
      "        \n",
      "        Parameters:\n",
      "        maze: a array with characters prodced by parse_maze()\n",
      "        what: the letter to be found ('S' for start and 'G' for goal)\n",
      "        \n",
      "        Returns:\n",
      "        a tupple (x, y) for the found position.\n",
      "    \n",
      "    look(maze, pos)\n",
      "        Look at the label of a square with the position as an array of the form (x, y).\n",
      "    \n",
      "    parse_maze(maze_str)\n",
      "        Convert a maze as a string into a 2d numpy array\n",
      "    \n",
      "    show_maze(maze, fontsize=10)\n",
      "        Display a (parsed) maze as an image.\n",
      "    \n",
      "    welcome()\n",
      "        Welcome message.\n",
      "\n",
      "FILE\n",
      "    /Users/sofiamurillosanchez/Documents/GitHub/CS7320-AI/Search/maze_helper.py\n",
      "\n",
      "\n"
     ]
    }
   ],
   "source": [
    "help(mh)"
   ]
  },
  {
   "cell_type": "markdown",
   "metadata": {},
   "source": [
    "## Tree structure\n",
    "\n",
    "Here is an implementation of the basic node structure for the search algorithms (see Fig 3.7 on page 73). I have added a method that extracts the path from the root node to the current node. It can be used to get the path when the search is completed."
   ]
  },
  {
   "cell_type": "code",
   "execution_count": 6,
   "metadata": {},
   "outputs": [],
   "source": [
    "import numpy as np\n",
    "class Node:\n",
    "    def __init__(self, pos, parent, action, cost):\n",
    "        self.pos = tuple(pos)    # the state; positions are (row,col)\n",
    "        self.parent = parent     # reference to parent node. None means root node.\n",
    "        self.action = action     # action used in the transition function (root node has None)\n",
    "        self.cost = cost         # for uniform cost this is the depth. It is also g(n) for A* search\n",
    "\n",
    "    def __str__(self):\n",
    "        return f\"Node - pos = {self.pos}; action = {self.action}; cost = {self.cost}\"\n",
    "    \n",
    "    def get_path_from_root(self):\n",
    "        \"\"\"returns nodes on the path from the root to the current node.\"\"\"\n",
    "        node = self\n",
    "        path = [node]\n",
    "    \n",
    "        while not node.parent is None:\n",
    "            node = node.parent\n",
    "            path.append(node)\n",
    "        \n",
    "        path.reverse()\n",
    "        \n",
    "        return(path)\n",
    "    \n",
    "    # Heuristic Value h(n)\n",
    "    def manhattan_distance(self):\n",
    "        node = self\n",
    "        curr_pos = node.pos\n",
    "        pos = list(curr_pos)\n",
    "        \n",
    "        final_pos = mh.find_pos(maze, what = \"G\")\n",
    "        f_pos = list(final_pos)\n",
    "        \n",
    "        x = abs(pos[0] - f_pos[0])\n",
    "        y = abs(pos[1] - f_pos[1])\n",
    "        \n",
    "        return x+y\n",
    "\n",
    "    def a_star_f(self):\n",
    "        node = self\n",
    "        return manhattan_distance(node) + node.cost\n",
    "        "
   ]
  },
  {
   "cell_type": "markdown",
   "metadata": {},
   "source": [
    "If needed, then you can add more fields to the class like the heuristic value $h(n)$ or $f(n)$.\n",
    "\n",
    "Examples for how to create and use a tree and information on memory management can be found [here](../Python_Code_Examples/trees.ipynb)."
   ]
  },
  {
   "cell_type": "markdown",
   "metadata": {},
   "source": [
    "# Tasks\n",
    "\n",
    "The goal is to:\n",
    "\n",
    "1. Implement the following search algorithms for solving different mazes:\n",
    "\n",
    "    - Breadth-first search (BFS)\n",
    "    - Depth-first search (DFS)\n",
    "    - Greedy best-first search (GBFS)\n",
    "    - A* search\n",
    "\n",
    "2. Run each of the above algorithms on the \n",
    "    - [small maze](small_maze.txt), \n",
    "    - [medium maze](medium_maze.txt), \n",
    "    - [large maze](large_maze.txt), \n",
    "    - [open maze](open_maze.txt),\n",
    "    - [wall maze](wall_maze.txt),\n",
    "    - [loops maze](loops_maze.txt),\n",
    "    - [empty maze](empty_maze.txt), and\n",
    "    - [empty 2_maze](empty_2_maze.txt).\n",
    "    \n",
    "3. For each problem instance and each search algorithm, report the following in a table:\n",
    "\n",
    "    - The solution and its path cost\n",
    "    - Total number of nodes expanded\n",
    "    - Maximum tree depth\n",
    "    - Maximum size of the frontier\n",
    "\n",
    "4. Display each solution by marking every maze square (or state) visited and the squares on the final path.\n",
    "\n",
    "## General [10 Points]\n",
    "\n",
    "1. Make sure that you use the latest version of this notebook. Sync your forked repository and pull the latest revision. \n",
    "2. Your implementation can use libraries like math, numpy, scipy, but not libraries that implement inteligent agents or complete search algorithms. Try to keep the code simple! In this course, we want to learn about the algorithms and we often do not need to use object-oriented design.\n",
    "3. You notebook needs to be formated professionally. \n",
    "    - Add additional markdown blocks for your description, comments in the code, add tables and use mathplotlib to produce charts where appropriate\n",
    "    - Do not show debugging output or include an excessive amount of output.\n",
    "    - Check that your PDF file is readable. For example, long lines are cut off in the PDF file. You don't have control over page breaks, so do not worry about these.\n",
    "4. Document your code. Add a short discussion of how your implementation works and your design choices."
   ]
  },
  {
   "cell_type": "markdown",
   "metadata": {},
   "source": [
    "## Task 1: Defining the search problem and determining the problem size [10 Points]\n",
    "\n",
    "Define the components of the search problem:\n",
    "\n",
    "* Initial state\n",
    "* Actions\n",
    "* Transition model\n",
    "* Goal state\n",
    "* Path cost\n",
    "\n",
    "Use verbal descriptions, variables and equations as appropriate. \n",
    "\n",
    "*Note:* You can swich the next block from code to Markdown and use formating."
   ]
  },
  {
   "cell_type": "markdown",
   "metadata": {},
   "source": [
    "### **Initial State:** Starting Position in the maze\n",
    "\n",
    "\n",
    "### **Actions** - Moving either Left, Right, Up, or Down through the maze\n",
    "\n",
    "### **Transition Model** - The transition model for the maze is dependent on the number of possible positions within the maze multiplied by the number of possible directions that can be followed (North, South, East, and West), therefore, four directions. \n",
    "𝑓: 𝑆 × 𝐴 → 𝑆\n",
    "\n",
    "\n",
    "### **Goal State** - The maze is completed/exited\n",
    "\n",
    "### **Path Cost** - 1 per step cost"
   ]
  },
  {
   "cell_type": "code",
   "execution_count": 7,
   "metadata": {},
   "outputs": [],
   "source": [
    "actions = ['left', 'right', 'up', 'down', 'none']"
   ]
  },
  {
   "cell_type": "markdown",
   "metadata": {},
   "source": [
    "Give some estimates for the problem size:\n",
    "\n",
    "* $n$: state space size\n",
    "* $d$: depth of the optimal solution\n",
    "* $m$: maximum depth of tree\n",
    "* $b$: maximum branching factor\n",
    "\n",
    "Describe how you would determine these values for a given maze."
   ]
  },
  {
   "cell_type": "code",
   "execution_count": 8,
   "metadata": {},
   "outputs": [],
   "source": [
    "# Your answer goes here"
   ]
  },
  {
   "cell_type": "markdown",
   "metadata": {},
   "source": [
    "## Task 2: Uninformed search: Breadth-first and depth-first [40 Points]\n",
    "\n",
    "Implement these search strategies. Follow the pseudocode in the textbook/slides. You can use the tree structure shown above to extract the final path from your solution.\n",
    "\n",
    "__Notes:__\n",
    "* You can find maze solving implementations online that use the map to store information. While this is an effective idea for this two-dimensional navigation problem, it typically cannot be used for other search problems. Therefore, follow the textbook and only store information in the tree created during search, and use the `reached` and `frontier` data structures.\n",
    "* DSF can be implemented using the BFS tree search algorithm and simply changing the order in which the frontier is expanded (this is equivalent to best-first search with path length as the criterion to expand the next node). However, to take advantage of the significantly smaller memory footprint of DFS, you need to implement DFS in a different way without a `reached` data structure and by releasing the memory for nodes that are not needed anymore. \n",
    "* If DFS does not use a `reached` data structure, then its cycle checking abilities are limited. Remember, that DSF is incomplete if cycles cannot be prevented. You will see in your experiments that open spaces are a problem."
   ]
  },
  {
   "cell_type": "code",
   "execution_count": 9,
   "metadata": {},
   "outputs": [],
   "source": [
    "# Function to check if the goal was reached by the current node\n",
    "def goal_reached(position):\n",
    "    if(position.pos == mh.find_pos(maze, what = \"G\")):\n",
    "        return True\n",
    "    else:\n",
    "        return False"
   ]
  },
  {
   "cell_type": "code",
   "execution_count": 10,
   "metadata": {},
   "outputs": [],
   "source": [
    "# Function to expand the search tree\n",
    "\n",
    "def expand(curr_node):\n",
    "    curr_pos = curr_node.pos\n",
    "    pos = list(curr_pos)\n",
    "    \n",
    "    # Create node for moving to the right\n",
    "    if(pos[0]+1 != 'X'):\n",
    "        if pos[0]+1 < len(maze[0])-1:\n",
    "            yield Node(tuple([pos[0]+1, pos[1]]), curr_node, 'right', curr_node.cost+1)\n",
    "    \n",
    "    # Create node for moving to the left\n",
    "    if(pos[0]-1 != 'X'):\n",
    "        if pos[0]-1 > 0:\n",
    "            yield Node(tuple([pos[0]-1, pos[1]]), curr_node, 'left', curr_node.cost+1)\n",
    "    \n",
    "    # Create node for moving to the down\n",
    "    if(pos[1]+1 != 'X'):\n",
    "        if pos[1]+1 < len(maze)-1:\n",
    "            yield Node(tuple([pos[0], pos[1]+1]), curr_node, 'down', curr_node.cost+1)\n",
    "    \n",
    "    # Create node for moving to the up\n",
    "    if(pos[1]-1 != 'X'):\n",
    "        if pos[1]-1 > 0:\n",
    "            yield Node(tuple([pos[0], pos[1]-1]), curr_node, 'up', curr_node.cost+1)\n"
   ]
  },
  {
   "cell_type": "code",
   "execution_count": 11,
   "metadata": {},
   "outputs": [],
   "source": [
    "# Declare global variables for data tracking purposes\n",
    "num_expanded = 0\n",
    "max_nodes = 1\n",
    "max_depth = 0\n",
    "max_frontier = 0"
   ]
  },
  {
   "cell_type": "markdown",
   "metadata": {},
   "source": [
    "### Breadth First Search Implementation"
   ]
  },
  {
   "cell_type": "code",
   "execution_count": 12,
   "metadata": {},
   "outputs": [],
   "source": [
    "def breadth_first(position, verbose = True):\n",
    "    global num_expanded\n",
    "    global max_nodes\n",
    "    global max_depth\n",
    "    global max_frontier\n",
    "    \n",
    "    if (goal_reached(position) == True):\n",
    "        if verbose: print(\"Goal Reached!\")\n",
    "        return position    \n",
    "    \n",
    "    initial_pos = position.pos # Initial position of the starting node\n",
    "    frontier = [position] # Initialize frontier with starting node\n",
    "    max_frontier = 1 # Set frontier to 1\n",
    "    reached = {initial_pos} # Initialize reached as a lookup table\n",
    "    \n",
    "    while len(frontier) != 0:\n",
    "        curr = frontier.pop(0)\n",
    "        num_expanded += 1 # Increase number expanded\n",
    "        if verbose: print(curr)\n",
    "        \n",
    "        for child in expand(curr):\n",
    "            max_nodes += 1\n",
    "            if goal_reached(child) == True:\n",
    "                if verbose: print(\"Goal Reached!\")\n",
    "                max_depth = len(child.get_path_from_root())\n",
    "                return child\n",
    "            if child.pos not in reached:\n",
    "                reached.add(child.pos)\n",
    "                frontier.append(child)\n",
    "                max_frontier += 1 # Add node to frontier\n",
    "    print(\"No solution found. Failed. :(\")"
   ]
  },
  {
   "cell_type": "code",
   "execution_count": 13,
   "metadata": {},
   "outputs": [
    {
     "name": "stdout",
     "output_type": "stream",
     "text": [
      "Path Taken: \n",
      "Node - pos = (3, 11); action = none; cost = 0\n",
      "Node - pos = (4, 11); action = right; cost = 1\n",
      "Node - pos = (5, 11); action = right; cost = 2\n",
      "Node - pos = (6, 11); action = right; cost = 3\n",
      "Node - pos = (7, 11); action = right; cost = 4\n",
      "Node - pos = (8, 11); action = right; cost = 5\n",
      "Node - pos = (8, 10); action = up; cost = 6\n",
      "Node - pos = (8, 9); action = up; cost = 7\n",
      "Node - pos = (8, 8); action = up; cost = 8\n",
      "Node - pos = (8, 7); action = up; cost = 9\n",
      "Node - pos = (8, 6); action = up; cost = 10\n",
      "Node - pos = (8, 5); action = up; cost = 11\n",
      "Node - pos = (8, 4); action = up; cost = 12\n",
      "Node - pos = (8, 3); action = up; cost = 13\n",
      "Node - pos = (8, 2); action = up; cost = 14\n",
      "Node - pos = (8, 1); action = up; cost = 15\n"
     ]
    }
   ],
   "source": [
    "maze = mh.parse_maze(maze_str)\n",
    "position = Node((mh.find_pos(maze, what = \"S\")), None, 'none', 0) # Initialize starting/root node\n",
    "\n",
    "print(\"Path Taken: \")\n",
    "for node in breadth_first(position, False).get_path_from_root():\n",
    "    maze[node.pos] = 'P'\n",
    "    print(node)\n"
   ]
  },
  {
   "cell_type": "markdown",
   "metadata": {},
   "source": [
    "### Depth First Search Implementation"
   ]
  },
  {
   "cell_type": "code",
   "execution_count": 14,
   "metadata": {},
   "outputs": [],
   "source": [
    "def is_cycle(position):\n",
    "    cnt = 0\n",
    "    if position.parent != None:\n",
    "        for node in position.parent.get_path_from_root():\n",
    "            if node.pos == position.pos:\n",
    "                cnt+=1\n",
    "            if(cnt > 0):\n",
    "                return True\n",
    "    return False"
   ]
  },
  {
   "cell_type": "code",
   "execution_count": 15,
   "metadata": {},
   "outputs": [],
   "source": [
    "def depth_first(position, l=float('inf'), verbose = True):\n",
    "    global num_expanded\n",
    "    global max_nodes\n",
    "    global max_depth\n",
    "    global max_frontier\n",
    "    frontier = [position] # Initialize frontier with starting node\n",
    "    max_frontier = 1\n",
    "    \n",
    "    while frontier:\n",
    "        curr = frontier.pop()\n",
    "        \n",
    "        if (goal_reached(curr) == True):\n",
    "            if verbose: print(\"Goal Reached!\")\n",
    "            max_depth = len(curr.get_path_from_root())\n",
    "            return curr # Goal Position\n",
    "        \n",
    "        if(curr.cost > l):\n",
    "            return curr # Cutoff\n",
    "        \n",
    "        \n",
    "        elif not is_cycle(curr):\n",
    "            poss_nodes = expand(curr)\n",
    "            num_expanded += 1\n",
    "            for child in poss_nodes:\n",
    "                max_nodes += 1\n",
    "                if(verbose): print(child)\n",
    "                frontier.append(child)\n",
    "                max_frontier += 1\n",
    "    print(\"Failed... Final Position: \")\n",
    "    return position "
   ]
  },
  {
   "cell_type": "code",
   "execution_count": 16,
   "metadata": {},
   "outputs": [
    {
     "name": "stdout",
     "output_type": "stream",
     "text": [
      "Path Taken: \n",
      "Node - pos = (3, 11); action = none; cost = 0\n",
      "Node - pos = (3, 10); action = up; cost = 1\n",
      "Node - pos = (3, 9); action = up; cost = 2\n",
      "Node - pos = (3, 8); action = up; cost = 3\n",
      "Node - pos = (3, 7); action = up; cost = 4\n",
      "Node - pos = (3, 6); action = up; cost = 5\n",
      "Node - pos = (3, 5); action = up; cost = 6\n",
      "Node - pos = (3, 4); action = up; cost = 7\n",
      "Node - pos = (3, 3); action = up; cost = 8\n",
      "Node - pos = (3, 2); action = up; cost = 9\n",
      "Node - pos = (3, 1); action = up; cost = 10\n",
      "Node - pos = (4, 1); action = right; cost = 11\n",
      "Node - pos = (4, 2); action = down; cost = 12\n",
      "Node - pos = (4, 3); action = down; cost = 13\n",
      "Node - pos = (4, 4); action = down; cost = 14\n",
      "Node - pos = (4, 5); action = down; cost = 15\n",
      "Node - pos = (4, 6); action = down; cost = 16\n",
      "Node - pos = (4, 7); action = down; cost = 17\n",
      "Node - pos = (4, 8); action = down; cost = 18\n",
      "Node - pos = (5, 8); action = right; cost = 19\n",
      "Node - pos = (5, 7); action = up; cost = 20\n",
      "Node - pos = (5, 6); action = up; cost = 21\n",
      "Node - pos = (5, 5); action = up; cost = 22\n",
      "Node - pos = (5, 4); action = up; cost = 23\n",
      "Node - pos = (5, 3); action = up; cost = 24\n",
      "Node - pos = (5, 2); action = up; cost = 25\n",
      "Node - pos = (5, 1); action = up; cost = 26\n",
      "Node - pos = (6, 1); action = right; cost = 27\n",
      "Node - pos = (6, 2); action = down; cost = 28\n",
      "Node - pos = (6, 3); action = down; cost = 29\n",
      "Node - pos = (6, 4); action = down; cost = 30\n",
      "Node - pos = (6, 5); action = down; cost = 31\n",
      "Node - pos = (6, 6); action = down; cost = 32\n",
      "Node - pos = (6, 7); action = down; cost = 33\n",
      "Node - pos = (6, 8); action = down; cost = 34\n",
      "Node - pos = (7, 8); action = right; cost = 35\n",
      "Node - pos = (7, 7); action = up; cost = 36\n",
      "Node - pos = (7, 6); action = up; cost = 37\n",
      "Node - pos = (7, 5); action = up; cost = 38\n",
      "Node - pos = (7, 4); action = up; cost = 39\n",
      "Node - pos = (7, 3); action = up; cost = 40\n",
      "Node - pos = (7, 2); action = up; cost = 41\n",
      "Node - pos = (7, 1); action = up; cost = 42\n",
      "Node - pos = (8, 1); action = right; cost = 43\n"
     ]
    }
   ],
   "source": [
    "maze = mh.parse_maze(maze_str)\n",
    "position = Node((mh.find_pos(maze, what = \"S\")), None, 'none', 0) # Initialize starting/root node\n",
    "\n",
    "print(\"Path Taken: \")\n",
    "for node in depth_first(position, float('inf'), False).get_path_from_root():\n",
    "    maze[node.pos] = 'P'\n",
    "    print(node)"
   ]
  },
  {
   "cell_type": "markdown",
   "metadata": {},
   "source": [
    "## How does BFS and DFS deal with loops (cycles)?"
   ]
  },
  {
   "cell_type": "markdown",
   "metadata": {},
   "source": [
    "**Breadth First Search:** BFS uses the reached data structure to keep track of the current path and ensure that the current node is not already contained.\n",
    "\n",
    "\n",
    "\n",
    "**Depth First Search:** DFS checks the current path from the root using the node that it is currently checking. The data reached isn't specifically stored in a data structure."
   ]
  },
  {
   "cell_type": "markdown",
   "metadata": {},
   "source": [
    "# NEED TO ANSWER\n",
    "\n",
    "Are your implementations complete and optimal? Explain why. What is the time and space complexity of each of **your** implementations?"
   ]
  },
  {
   "cell_type": "code",
   "execution_count": 17,
   "metadata": {},
   "outputs": [],
   "source": [
    "# Discussion"
   ]
  },
  {
   "cell_type": "markdown",
   "metadata": {},
   "source": [
    "## Task 3: Informed search: Implement greedy best-first search and A* search  [20 Points]\n",
    "\n",
    "You can use the map to estimate the distance from your current position to the goal using the Manhattan distance (see https://en.wikipedia.org/wiki/Taxicab_geometry) as a heuristic function. Both algorithms are based on Best-First search which requires only a small change from the BFS algorithm you have already implemented (see textbook/slides). "
   ]
  },
  {
   "cell_type": "markdown",
   "metadata": {},
   "source": [
    "# Greedy Best-First Search"
   ]
  },
  {
   "cell_type": "code",
   "execution_count": 18,
   "metadata": {},
   "outputs": [],
   "source": [
    "def greedy_best_first(position, heuristic, verbose):\n",
    "    global num_expanded\n",
    "    global max_nodes\n",
    "    global max_depth\n",
    "    global max_frontier\n",
    "    initial_pos = position.pos # Initial position of the starting node\n",
    "    frontier = [position] # Initialize frontier as a priority queue\n",
    "    max_frontier = 1\n",
    "    reached = {initial_pos: position} # Initialize reached as a lookup table\n",
    "    \n",
    "    while frontier:\n",
    "        curr = frontier.pop(0)\n",
    "        \n",
    "        if goal_reached(curr):\n",
    "            max_depth = len(curr.get_path_from_root())\n",
    "            return curr\n",
    "        \n",
    "        num_expanded +=1\n",
    "        for child in expand(curr):\n",
    "            max_nodes += 1\n",
    "            if child.pos not in reached or child.cost < reached.get(child.pos).cost:\n",
    "                reached[child.pos] = child\n",
    "                frontier.append(child)\n",
    "                max_frontier += 1\n",
    "        \n",
    "        # Order the frontier by heuristic, with the smallest manhattan distance being the priority\n",
    "        frontier.sort(key=lambda x: x.manhattan_distance())\n",
    "                \n",
    "                \n",
    "    print(\"No Solution Found. Failed. :(\")\n",
    "    "
   ]
  },
  {
   "cell_type": "code",
   "execution_count": 19,
   "metadata": {},
   "outputs": [
    {
     "name": "stdout",
     "output_type": "stream",
     "text": [
      "Path Taken: \n",
      "Node - pos = (3, 11); action = none; cost = 0\n",
      "Node - pos = (4, 11); action = right; cost = 1\n",
      "Node - pos = (5, 11); action = right; cost = 2\n",
      "Node - pos = (6, 11); action = right; cost = 3\n",
      "Node - pos = (7, 11); action = right; cost = 4\n",
      "Node - pos = (8, 11); action = right; cost = 5\n",
      "Node - pos = (8, 10); action = up; cost = 6\n",
      "Node - pos = (8, 9); action = up; cost = 7\n",
      "Node - pos = (8, 8); action = up; cost = 8\n",
      "Node - pos = (8, 7); action = up; cost = 9\n",
      "Node - pos = (8, 6); action = up; cost = 10\n",
      "Node - pos = (8, 5); action = up; cost = 11\n",
      "Node - pos = (8, 4); action = up; cost = 12\n",
      "Node - pos = (8, 3); action = up; cost = 13\n",
      "Node - pos = (8, 2); action = up; cost = 14\n",
      "Node - pos = (8, 1); action = up; cost = 15\n"
     ]
    }
   ],
   "source": [
    "maze = mh.parse_maze(maze_str)\n",
    "position = Node((mh.find_pos(maze, what = \"S\")), None, 'none', 0) # Initialize starting/root node\n",
    "print(\"Path Taken: \")\n",
    "heuristic = position.manhattan_distance()\n",
    "\n",
    "for node in greedy_best_first(position, heuristic, False).get_path_from_root():\n",
    "    maze[node.pos] = 'P'\n",
    "    print(node)"
   ]
  },
  {
   "cell_type": "markdown",
   "metadata": {},
   "source": [
    "# A* Search"
   ]
  },
  {
   "cell_type": "code",
   "execution_count": 20,
   "metadata": {},
   "outputs": [],
   "source": [
    "def a_star(position, heuristic, verbose):\n",
    "    global num_expanded\n",
    "    global max_nodes\n",
    "    global max_depth\n",
    "    global max_frontier\n",
    "    initial_pos = position.pos # Initial position of the starting node\n",
    "    frontier = [position] # Initialize frontier as a priority queue\n",
    "    max_frontier = 1\n",
    "    reached = {initial_pos: position} # Initialize reached as a lookup table\n",
    "    \n",
    "    while frontier:\n",
    "        curr = frontier.pop(0)\n",
    "        \n",
    "        if goal_reached(curr):\n",
    "            max_depth = len(curr.get_path_from_root())\n",
    "            return curr\n",
    "        num_expanded += 1\n",
    "        for child in expand(curr):\n",
    "            max_nodes += 1\n",
    "            if child.pos not in reached or child.cost < reached.get(child.pos).cost:\n",
    "                reached[child.pos] = child\n",
    "                frontier.append(child)\n",
    "                max_frontier += 1\n",
    "        \n",
    "        # Order the frontier by heuristic, with the smallest (manhattan distance + path cost) being the priority\n",
    "        current_check = frontier[len(frontier) - 1]\n",
    "        frontier.sort(key=lambda x: (x.manhattan_distance()+x.cost))\n",
    "                \n",
    "                \n",
    "    print(\"No Solution Found. Failed. :(\")"
   ]
  },
  {
   "cell_type": "code",
   "execution_count": 21,
   "metadata": {},
   "outputs": [
    {
     "name": "stdout",
     "output_type": "stream",
     "text": [
      "Path Taken: \n",
      "Node - pos = (3, 11); action = none; cost = 0\n",
      "Node - pos = (4, 11); action = right; cost = 1\n",
      "Node - pos = (5, 11); action = right; cost = 2\n",
      "Node - pos = (6, 11); action = right; cost = 3\n",
      "Node - pos = (7, 11); action = right; cost = 4\n",
      "Node - pos = (8, 11); action = right; cost = 5\n",
      "Node - pos = (8, 10); action = up; cost = 6\n",
      "Node - pos = (8, 9); action = up; cost = 7\n",
      "Node - pos = (8, 8); action = up; cost = 8\n",
      "Node - pos = (8, 7); action = up; cost = 9\n",
      "Node - pos = (8, 6); action = up; cost = 10\n",
      "Node - pos = (8, 5); action = up; cost = 11\n",
      "Node - pos = (8, 4); action = up; cost = 12\n",
      "Node - pos = (8, 3); action = up; cost = 13\n",
      "Node - pos = (8, 2); action = up; cost = 14\n",
      "Node - pos = (8, 1); action = up; cost = 15\n"
     ]
    }
   ],
   "source": [
    "maze = mh.parse_maze(maze_str)\n",
    "position = Node((mh.find_pos(maze, what = \"S\")), None, 'none', 0) # Initialize starting/root node\n",
    "print(\"Path Taken: \")\n",
    "heuristic = position.manhattan_distance() + 0 # g(n) = 0 since it is at the starting node, so current path cost is 0\n",
    "\n",
    "for node in a_star(position, heuristic, False).get_path_from_root():\n",
    "    maze[node.pos] = 'P'\n",
    "    print(node)"
   ]
  },
  {
   "cell_type": "markdown",
   "metadata": {},
   "source": [
    "Are your implementations complete and optimal? What is the time and space complexity?"
   ]
  },
  {
   "cell_type": "code",
   "execution_count": 22,
   "metadata": {},
   "outputs": [],
   "source": [
    "# Discussion"
   ]
  },
  {
   "cell_type": "markdown",
   "metadata": {},
   "source": [
    "## Task 4: Comparison and discussion [20 Points] \n",
    "\n",
    "Run experiments to compare the implemented algorithms.\n"
   ]
  },
  {
   "cell_type": "markdown",
   "metadata": {},
   "source": [
    "### My Thoughts/Comments:\n",
    "\n",
    "For the experiments I ran, I ran all the algorithm implementations through the different mazes and produced their respective output through pretty table to compare their general performance and other variables we were asked to calculate (i.e. max number of nodes in memory).\n",
    "\n",
    "I specifically calculated each variable with the following logic:\n",
    "1) **Num Expanded:** If a node was not the result, right before it went through the expansion function, I incremented its value since technically that's the node being expanded.\n",
    "\n",
    "2) **Max Nodes:** To calculate this, I initialized max nodes to 1 since we have a root node. From there, I incremented max nodes by 1 when looping through the expanded children since those are technically all of the nodes in memory to be considered.\n",
    "\n",
    "3) **Max Depth:** I did not want to go through the trouble of exploring the longest possible path, so, I set the max depth to the length of the final path.\n",
    "\n",
    "4) **Max Frontier:** I incremented Max Frontier by 1 each time a node was added to the frontier."
   ]
  },
  {
   "cell_type": "code",
   "execution_count": 23,
   "metadata": {},
   "outputs": [],
   "source": [
    "# Read in the mazes\n",
    "with open(\"small_maze.txt\", \"r\") as f:\n",
    "    small_maze = f.read()\n",
    "\n",
    "with open(\"medium_maze.txt\", \"r\") as f:\n",
    "    medium_maze = f.read()\n",
    "    \n",
    "with open(\"large_maze.txt\", \"r\") as f:\n",
    "    large_maze = f.read()\n",
    "    \n",
    "with open(\"open_maze.txt\", \"r\") as f:\n",
    "    open_maze = f.read()\n",
    "    \n",
    "with open(\"wall_maze.txt\", \"r\") as f:\n",
    "    wall_maze = f.read()\n",
    "    \n",
    "with open(\"loops_maze.txt\", \"r\") as f:\n",
    "    loops_maze = f.read()\n",
    "\n",
    "with open(\"empty_maze.txt\", \"r\") as f:\n",
    "    empty_maze = f.read()\n",
    "\n",
    "with open(\"empty_2_maze.txt\", \"r\") as f:\n",
    "    empty_2_maze = f.read()"
   ]
  },
  {
   "cell_type": "code",
   "execution_count": 24,
   "metadata": {},
   "outputs": [],
   "source": [
    "def reset_global_vars():\n",
    "    global num_expanded\n",
    "    num_expanded = 0\n",
    "    global max_nodes \n",
    "    max_nodes = 1\n",
    "    global max_depth \n",
    "    max_depth = 0\n",
    "    global max_frontier \n",
    "    max_frontier = 0"
   ]
  },
  {
   "cell_type": "code",
   "execution_count": 25,
   "metadata": {},
   "outputs": [],
   "source": [
    "from prettytable import PrettyTable"
   ]
  },
  {
   "cell_type": "code",
   "execution_count": 26,
   "metadata": {},
   "outputs": [
    {
     "name": "stdout",
     "output_type": "stream",
     "text": [
      "+------+-----------+----------------+----------------+----------------+-------------------+\n",
      "| algo | path cost | nodes expanded | max tree depth | max # of nodes | max frontier size |\n",
      "+------+-----------+----------------+----------------+----------------+-------------------+\n",
      "| BFS  |     15    |      1142      |       16       |      3713      |        142        |\n",
      "| DFS  |     43    |      800       |       44       |      2541      |        2541       |\n",
      "| GBS  |     15    |       15       |       16       |       52       |         40        |\n",
      "|  A*  |     15    |       65       |       16       |      232       |         87        |\n",
      "+------+-----------+----------------+----------------+----------------+-------------------+\n"
     ]
    }
   ],
   "source": [
    "# Small Maze Data Collection\n",
    "maze = mh.parse_maze(small_maze)\n",
    "small = PrettyTable()\n",
    "position = Node((mh.find_pos(maze, what = \"S\")), None, 'none', 0) # Initialize starting/root node\n",
    "\n",
    "\n",
    "# BFS\n",
    "small.add_row(['BFS', breadth_first(position, False).cost, num_expanded,max_depth, max_nodes, max_frontier])\n",
    "\n",
    "# Reset values\n",
    "reset_global_vars()\n",
    "\n",
    "# DFS\n",
    "maze = mh.parse_maze(small_maze)\n",
    "small.add_row(['DFS', depth_first(position, float('inf'), False).cost, num_expanded, max_depth, max_nodes, max_frontier])\n",
    "\n",
    "\n",
    "reset_global_vars()\n",
    "\n",
    "# GBS\n",
    "maze = mh.parse_maze(small_maze)\n",
    "small.add_row(['GBS', greedy_best_first(position, heuristic, False).cost, num_expanded, max_depth, max_nodes, max_frontier])# Max frontier size\n",
    "\n",
    "\n",
    "reset_global_vars()\n",
    "\n",
    "# A*\n",
    "maze = mh.parse_maze(small_maze)\n",
    "heuristic = position.manhattan_distance() + 0 # g(n) = 0 since it is at the starting node, so current path cost is 0\n",
    "small.add_row(['A*', a_star(position, heuristic, False).cost, num_expanded, max_depth, max_nodes, max_frontier])\n",
    "\n",
    "reset_global_vars()\n",
    "\n",
    "# display table\n",
    "small.field_names = ['algo', 'path cost', 'nodes expanded', 'max tree depth', 'max # of nodes', 'max frontier size']\n",
    "print(small)"
   ]
  },
  {
   "cell_type": "code",
   "execution_count": 27,
   "metadata": {},
   "outputs": [
    {
     "name": "stdout",
     "output_type": "stream",
     "text": [
      "+------+-----------+----------------+----------------+----------------+-------------------+\n",
      "| algo | path cost | nodes expanded | max tree depth | max # of nodes | max frontier size |\n",
      "+------+-----------+----------------+----------------+----------------+-------------------+\n",
      "| BFS  |     48    |      965       |       49       |      3162      |        984        |\n",
      "| DFS  |     82    |       82       |       83       |      255       |        255        |\n",
      "| GBS  |     40    |       40       |       41       |      126       |        112        |\n",
      "|  A*  |     40    |      271       |       41       |      828       |        305        |\n",
      "+------+-----------+----------------+----------------+----------------+-------------------+\n"
     ]
    }
   ],
   "source": [
    "# Medium Maze Data Collection\n",
    "maze = mh.parse_maze(medium_maze)\n",
    "med = PrettyTable()\n",
    "position = Node((mh.find_pos(maze, what = \"S\")), None, 'none', 0) # Initialize starting/root node\n",
    "\n",
    "\n",
    "# BFS\n",
    "med.add_row(['BFS', breadth_first(position, False).cost, num_expanded,max_depth, max_nodes, max_frontier])\n",
    "\n",
    "# Reset values\n",
    "reset_global_vars()\n",
    "\n",
    "# DFS\n",
    "maze = mh.parse_maze(small_maze)\n",
    "med.add_row(['DFS', depth_first(position, float('inf'), False).cost, num_expanded, max_depth, max_nodes, max_frontier])\n",
    "\n",
    "\n",
    "reset_global_vars()\n",
    "\n",
    "# GBS\n",
    "maze = mh.parse_maze(small_maze)\n",
    "med.add_row(['GBS', greedy_best_first(position, heuristic, False).cost, num_expanded, max_depth, max_nodes, max_frontier])# Max frontier size\n",
    "\n",
    "\n",
    "reset_global_vars()\n",
    "\n",
    "# A*\n",
    "maze = mh.parse_maze(small_maze)\n",
    "heuristic = position.manhattan_distance() + 0 # g(n) = 0 since it is at the starting node, so current path cost is 0\n",
    "med.add_row(['A*', a_star(position, heuristic, False).cost, num_expanded, max_depth, max_nodes, max_frontier])\n",
    "\n",
    "reset_global_vars()\n",
    "\n",
    "# display table\n",
    "med.field_names = ['algo', 'path cost', 'nodes expanded', 'max tree depth', 'max # of nodes', 'max frontier size']\n",
    "print(med)"
   ]
  },
  {
   "cell_type": "code",
   "execution_count": 28,
   "metadata": {},
   "outputs": [
    {
     "name": "stdout",
     "output_type": "stream",
     "text": [
      "+------+-----------+----------------+----------------+----------------+-------------------+\n",
      "| algo | path cost | nodes expanded | max tree depth | max # of nodes | max frontier size |\n",
      "+------+-----------+----------------+----------------+----------------+-------------------+\n",
      "| BFS  |     34    |      595       |       35       |      2313      |        629        |\n",
      "| DFS  |    243    |      243       |      244       |      737       |        737        |\n",
      "| GBS  |     61    |       61       |       62       |      174       |        155        |\n",
      "|  A*  |     61    |      979       |       62       |      2546      |        1014       |\n",
      "+------+-----------+----------------+----------------+----------------+-------------------+\n"
     ]
    }
   ],
   "source": [
    "# Large Maze Data Collection\n",
    "maze = mh.parse_maze(large_maze)\n",
    "large = PrettyTable()\n",
    "position = Node((mh.find_pos(maze, what = \"S\")), None, 'none', 0) # Initialize starting/root node\n",
    "\n",
    "\n",
    "# BFS\n",
    "large.add_row(['BFS', breadth_first(position, False).cost, num_expanded,max_depth, max_nodes, max_frontier])\n",
    "\n",
    "# Reset values\n",
    "reset_global_vars()\n",
    "\n",
    "# DFS\n",
    "maze = mh.parse_maze(small_maze)\n",
    "large.add_row(['DFS', depth_first(position, float('inf'), False).cost, num_expanded, max_depth, max_nodes, max_frontier])\n",
    "\n",
    "\n",
    "reset_global_vars()\n",
    "\n",
    "# GBS\n",
    "maze = mh.parse_maze(small_maze)\n",
    "large.add_row(['GBS', greedy_best_first(position, heuristic, False).cost, num_expanded, max_depth, max_nodes, max_frontier])# Max frontier size\n",
    "\n",
    "\n",
    "reset_global_vars()\n",
    "\n",
    "# A*\n",
    "maze = mh.parse_maze(small_maze)\n",
    "heuristic = position.manhattan_distance() + 0 # g(n) = 0 since it is at the starting node, so current path cost is 0\n",
    "large.add_row(['A*', a_star(position, heuristic, False).cost, num_expanded, max_depth, max_nodes, max_frontier])\n",
    "\n",
    "reset_global_vars()\n",
    "\n",
    "# display table\n",
    "large.field_names = ['algo', 'path cost', 'nodes expanded', 'max tree depth', 'max # of nodes', 'max frontier size']\n",
    "print(large)"
   ]
  },
  {
   "cell_type": "code",
   "execution_count": 29,
   "metadata": {},
   "outputs": [
    {
     "name": "stdout",
     "output_type": "stream",
     "text": [
      "+------+-----------+----------------+----------------+----------------+-------------------+\n",
      "| algo | path cost | nodes expanded | max tree depth | max # of nodes | max frontier size |\n",
      "+------+-----------+----------------+----------------+----------------+-------------------+\n",
      "| BFS  |     54    |      1104      |       55       |      3818      |        1119       |\n",
      "| DFS  |     83    |       83       |       84       |      257       |        257        |\n",
      "| GBS  |     41    |       41       |       42       |      129       |        115        |\n",
      "|  A*  |     41    |      279       |       42       |      851       |        314        |\n",
      "+------+-----------+----------------+----------------+----------------+-------------------+\n"
     ]
    }
   ],
   "source": [
    "# Open Maze Data Collection\n",
    "maze = mh.parse_maze(open_maze)\n",
    "openM = PrettyTable()\n",
    "position = Node((mh.find_pos(maze, what = \"S\")), None, 'none', 0) # Initialize starting/root node\n",
    "\n",
    "\n",
    "# BFS\n",
    "openM.add_row(['BFS', breadth_first(position, False).cost, num_expanded,max_depth, max_nodes, max_frontier])\n",
    "\n",
    "# Reset values\n",
    "reset_global_vars()\n",
    "\n",
    "# DFS\n",
    "maze = mh.parse_maze(small_maze)\n",
    "openM.add_row(['DFS', depth_first(position, float('inf'), False).cost, num_expanded, max_depth, max_nodes, max_frontier])\n",
    "\n",
    "\n",
    "reset_global_vars()\n",
    "\n",
    "# GBS\n",
    "maze = mh.parse_maze(small_maze)\n",
    "openM.add_row(['GBS', greedy_best_first(position, heuristic, False).cost, num_expanded, max_depth, max_nodes, max_frontier])# Max frontier size\n",
    "\n",
    "\n",
    "reset_global_vars()\n",
    "\n",
    "# A*\n",
    "maze = mh.parse_maze(small_maze)\n",
    "heuristic = position.manhattan_distance() + 0 # g(n) = 0 since it is at the starting node, so current path cost is 0\n",
    "openM.add_row(['A*', a_star(position, heuristic, False).cost, num_expanded, max_depth, max_nodes, max_frontier])\n",
    "\n",
    "reset_global_vars()\n",
    "\n",
    "# display table\n",
    "openM.field_names = ['algo', 'path cost', 'nodes expanded', 'max tree depth', 'max # of nodes', 'max frontier size']\n",
    "print(openM)"
   ]
  },
  {
   "cell_type": "code",
   "execution_count": 30,
   "metadata": {},
   "outputs": [
    {
     "name": "stdout",
     "output_type": "stream",
     "text": [
      "+------+-----------+----------------+----------------+----------------+-------------------+\n",
      "| algo | path cost | nodes expanded | max tree depth | max # of nodes | max frontier size |\n",
      "+------+-----------+----------------+----------------+----------------+-------------------+\n",
      "| BFS  |     14    |       92       |       15       |      335       |         95        |\n",
      "| DFS  |     2     |       2        |       3        |       8        |         8         |\n",
      "| GBS  |     2     |       2        |       3        |       9        |         8         |\n",
      "|  A*  |     2     |       3        |       3        |       12       |         9         |\n",
      "+------+-----------+----------------+----------------+----------------+-------------------+\n"
     ]
    }
   ],
   "source": [
    "# Wall Maze Data Collection\n",
    "maze = mh.parse_maze(wall_maze)\n",
    "wallM = PrettyTable()\n",
    "position = Node((mh.find_pos(maze, what = \"S\")), None, 'none', 0) # Initialize starting/root node\n",
    "\n",
    "\n",
    "# BFS\n",
    "wallM.add_row(['BFS', breadth_first(position, False).cost, num_expanded,max_depth, max_nodes, max_frontier])\n",
    "\n",
    "# Reset values\n",
    "reset_global_vars()\n",
    "\n",
    "# DFS\n",
    "maze = mh.parse_maze(small_maze)\n",
    "wallM.add_row(['DFS', depth_first(position, float('inf'), False).cost, num_expanded, max_depth, max_nodes, max_frontier])\n",
    "\n",
    "\n",
    "reset_global_vars()\n",
    "\n",
    "# GBS\n",
    "maze = mh.parse_maze(small_maze)\n",
    "wallM.add_row(['GBS', greedy_best_first(position, heuristic, False).cost, num_expanded, max_depth, max_nodes, max_frontier])# Max frontier size\n",
    "\n",
    "\n",
    "reset_global_vars()\n",
    "\n",
    "# A*\n",
    "maze = mh.parse_maze(small_maze)\n",
    "heuristic = position.manhattan_distance() + 0 # g(n) = 0 since it is at the starting node, so current path cost is 0\n",
    "wallM.add_row(['A*', a_star(position, heuristic, False).cost, num_expanded, max_depth, max_nodes, max_frontier])\n",
    "\n",
    "reset_global_vars()\n",
    "\n",
    "# display table\n",
    "wallM.field_names = ['algo', 'path cost', 'nodes expanded', 'max tree depth', 'max # of nodes', 'max frontier size']\n",
    "print(wallM)"
   ]
  },
  {
   "cell_type": "code",
   "execution_count": 31,
   "metadata": {},
   "outputs": [
    {
     "name": "stdout",
     "output_type": "stream",
     "text": [
      "+------+-----------+----------------+----------------+----------------+-------------------+\n",
      "| algo | path cost | nodes expanded | max tree depth | max # of nodes | max frontier size |\n",
      "+------+-----------+----------------+----------------+----------------+-------------------+\n",
      "| BFS  |     9     |       37       |       10       |      131       |         45        |\n",
      "| DFS  |     16    |       16       |       17       |       61       |         61        |\n",
      "| GBS  |     2     |       2        |       3        |       7        |         6         |\n",
      "|  A*  |     2     |       2        |       3        |       7        |         6         |\n",
      "+------+-----------+----------------+----------------+----------------+-------------------+\n"
     ]
    }
   ],
   "source": [
    "# loops Maze Data Collection\n",
    "maze = mh.parse_maze(loops_maze)\n",
    "loopsM = PrettyTable()\n",
    "position = Node((mh.find_pos(maze, what = \"S\")), None, 'none', 0) # Initialize starting/root node\n",
    "\n",
    "\n",
    "# BFS\n",
    "loopsM.add_row(['BFS', breadth_first(position, False).cost, num_expanded,max_depth, max_nodes, max_frontier])\n",
    "\n",
    "# Reset values\n",
    "reset_global_vars()\n",
    "\n",
    "# DFS\n",
    "maze = mh.parse_maze(small_maze)\n",
    "loopsM.add_row(['DFS', depth_first(position, float('inf'), False).cost, num_expanded, max_depth, max_nodes, max_frontier])\n",
    "\n",
    "\n",
    "reset_global_vars()\n",
    "\n",
    "# GBS\n",
    "maze = mh.parse_maze(small_maze)\n",
    "loopsM.add_row(['GBS', greedy_best_first(position, heuristic, False).cost, num_expanded, max_depth, max_nodes, max_frontier])# Max frontier size\n",
    "\n",
    "\n",
    "reset_global_vars()\n",
    "\n",
    "# A*\n",
    "maze = mh.parse_maze(small_maze)\n",
    "heuristic = position.manhattan_distance() + 0 # g(n) = 0 since it is at the starting node, so current path cost is 0\n",
    "loopsM.add_row(['A*', a_star(position, heuristic, False).cost, num_expanded, max_depth, max_nodes, max_frontier])\n",
    "\n",
    "reset_global_vars()\n",
    "\n",
    "# display table\n",
    "loopsM.field_names = ['algo', 'path cost', 'nodes expanded', 'max tree depth', 'max # of nodes', 'max frontier size']\n",
    "print(loopsM)"
   ]
  },
  {
   "cell_type": "code",
   "execution_count": 32,
   "metadata": {},
   "outputs": [
    {
     "name": "stdout",
     "output_type": "stream",
     "text": [
      "+------+-----------+----------------+----------------+----------------+-------------------+\n",
      "| algo | path cost | nodes expanded | max tree depth | max # of nodes | max frontier size |\n",
      "+------+-----------+----------------+----------------+----------------+-------------------+\n",
      "| BFS  |     14    |       92       |       15       |      335       |         95        |\n",
      "| DFS  |     2     |       2        |       3        |       8        |         8         |\n",
      "| GBS  |     2     |       2        |       3        |       9        |         8         |\n",
      "|  A*  |     2     |       3        |       3        |       12       |         9         |\n",
      "+------+-----------+----------------+----------------+----------------+-------------------+\n"
     ]
    }
   ],
   "source": [
    "# Empty Maze Data Collection\n",
    "maze = mh.parse_maze(empty_maze)\n",
    "emptyM = PrettyTable()\n",
    "position = Node((mh.find_pos(maze, what = \"S\")), None, 'none', 0) # Initialize starting/root node\n",
    "\n",
    "\n",
    "# BFS\n",
    "emptyM.add_row(['BFS', breadth_first(position, False).cost, num_expanded,max_depth, max_nodes, max_frontier])\n",
    "\n",
    "# Reset values\n",
    "reset_global_vars()\n",
    "\n",
    "# DFS\n",
    "maze = mh.parse_maze(small_maze)\n",
    "emptyM.add_row(['DFS', depth_first(position, float('inf'), False).cost, num_expanded, max_depth, max_nodes, max_frontier])\n",
    "\n",
    "\n",
    "reset_global_vars()\n",
    "\n",
    "# GBS\n",
    "maze = mh.parse_maze(small_maze)\n",
    "emptyM.add_row(['GBS', greedy_best_first(position, heuristic, False).cost, num_expanded, max_depth, max_nodes, max_frontier])# Max frontier size\n",
    "\n",
    "\n",
    "reset_global_vars()\n",
    "\n",
    "# A*\n",
    "maze = mh.parse_maze(small_maze)\n",
    "heuristic = position.manhattan_distance() + 0 # g(n) = 0 since it is at the starting node, so current path cost is 0\n",
    "emptyM.add_row(['A*', a_star(position, heuristic, False).cost, num_expanded, max_depth, max_nodes, max_frontier])\n",
    "\n",
    "reset_global_vars()\n",
    "\n",
    "# display table\n",
    "emptyM.field_names = ['algo', 'path cost', 'nodes expanded', 'max tree depth', 'max # of nodes', 'max frontier size']\n",
    "print(emptyM)"
   ]
  },
  {
   "cell_type": "code",
   "execution_count": 33,
   "metadata": {},
   "outputs": [
    {
     "name": "stdout",
     "output_type": "stream",
     "text": [
      "+------+-----------+----------------+----------------+----------------+-------------------+\n",
      "| algo | path cost | nodes expanded | max tree depth | max # of nodes | max frontier size |\n",
      "+------+-----------+----------------+----------------+----------------+-------------------+\n",
      "| BFS  |     14    |       92       |       15       |      336       |         95        |\n",
      "| DFS  |     56    |       64       |       57       |      233       |        233        |\n",
      "| GBS  |     14    |       14       |       15       |       49       |         36        |\n",
      "|  A*  |     14    |       62       |       15       |      229       |         80        |\n",
      "+------+-----------+----------------+----------------+----------------+-------------------+\n"
     ]
    }
   ],
   "source": [
    "# Empty Maze 2 Data Collection\n",
    "maze = mh.parse_maze(empty_2_maze)\n",
    "empty2M = PrettyTable()\n",
    "position = Node((mh.find_pos(maze, what = \"S\")), None, 'none', 0) # Initialize starting/root node\n",
    "\n",
    "\n",
    "# BFS\n",
    "empty2M.add_row(['BFS', breadth_first(position, False).cost, num_expanded,max_depth, max_nodes, max_frontier])\n",
    "\n",
    "# Reset values\n",
    "reset_global_vars()\n",
    "\n",
    "# DFS\n",
    "maze = mh.parse_maze(small_maze)\n",
    "empty2M.add_row(['DFS', depth_first(position, float('inf'), False).cost, num_expanded, max_depth, max_nodes, max_frontier])\n",
    "\n",
    "\n",
    "reset_global_vars()\n",
    "\n",
    "# GBS\n",
    "maze = mh.parse_maze(small_maze)\n",
    "empty2M.add_row(['GBS', greedy_best_first(position, heuristic, False).cost, num_expanded, max_depth, max_nodes, max_frontier])# Max frontier size\n",
    "\n",
    "\n",
    "reset_global_vars()\n",
    "\n",
    "# A*\n",
    "maze = mh.parse_maze(small_maze)\n",
    "heuristic = position.manhattan_distance() + 0 # g(n) = 0 since it is at the starting node, so current path cost is 0\n",
    "empty2M.add_row(['A*', a_star(position, heuristic, False).cost, num_expanded, max_depth, max_nodes, max_frontier])\n",
    "\n",
    "reset_global_vars()\n",
    "\n",
    "# display table\n",
    "empty2M.field_names = ['algo', 'path cost', 'nodes expanded', 'max tree depth', 'max # of nodes', 'max frontier size']\n",
    "print(empty2M)"
   ]
  },
  {
   "cell_type": "markdown",
   "metadata": {},
   "source": [
    "Present the results as using charts (see [Python Code Examples/charts and tables](../Python_Code_Examples/charts_and_tables.ipynb)). "
   ]
  },
  {
   "cell_type": "code",
   "execution_count": 34,
   "metadata": {},
   "outputs": [],
   "source": [
    "import pandas as pd\n",
    "import matplotlib.pyplot as plt"
   ]
  },
  {
   "cell_type": "code",
   "execution_count": 35,
   "metadata": {},
   "outputs": [],
   "source": [
    "# Create dataframes with the different tables\n",
    "\n",
    "df_small = pd.DataFrame.from_records(small.rows, columns=small.field_names)\n",
    "df_med = pd.DataFrame.from_records(med.rows, columns=med.field_names)\n",
    "df_large = pd.DataFrame.from_records(large.rows, columns=large.field_names)\n",
    "df_open = pd.DataFrame.from_records(openM.rows, columns=openM.field_names)\n",
    "df_wall = pd.DataFrame.from_records(wallM.rows, columns=wallM.field_names)\n",
    "df_loops = pd.DataFrame.from_records(loopsM.rows, columns=loopsM.field_names)\n",
    "df_empty = pd.DataFrame.from_records(emptyM.rows, columns=emptyM.field_names)\n",
    "df_empty2 = pd.DataFrame.from_records(empty2M.rows, columns=empty2M.field_names)"
   ]
  },
  {
   "cell_type": "code",
   "execution_count": null,
   "metadata": {},
   "outputs": [],
   "source": []
  },
  {
   "cell_type": "markdown",
   "metadata": {},
   "source": [
    "## Discuss the most important lessons you have learned from implementing the different search strategies. "
   ]
  },
  {
   "cell_type": "markdown",
   "metadata": {},
   "source": [
    "I never thought I would learn anything while implementing search algorithms if I am truly honest. However, I learned so much.\n",
    "\n",
    "1) For starters, I learned the importance of bounds checking when implementing any form of a search strategy. I never realized the impact not checking a simple value could have on your ability to get the correct answer.\n",
    "\n",
    "2) Something else I learned is the way the different search algorithms approach their implementations and the different use of data structures. For example, the frontier is consistently used in all of these implementations, but the reached data structure is not used in DFS. I consider this important because the way data structures are implemented (whether LIFO, FIFO, or not even used at all) is key to the way you reason your way through implementations.\n",
    "\n",
    "3) I learned that heurisitics are not as difficult to calculate as they seem. In practice, they are more simple than what we're taught theoretically. I feel like I always overthink the heurisitic applicationn within a search implementation, but, after a lot of research, I realized that __heuristics are not that bad__."
   ]
  }
 ],
 "metadata": {
  "kernelspec": {
   "display_name": "Python 3 (ipykernel)",
   "language": "python",
   "name": "python3"
  },
  "language_info": {
   "codemirror_mode": {
    "name": "ipython",
    "version": 3
   },
   "file_extension": ".py",
   "mimetype": "text/x-python",
   "name": "python",
   "nbconvert_exporter": "python",
   "pygments_lexer": "ipython3",
   "version": "3.9.7"
  }
 },
 "nbformat": 4,
 "nbformat_minor": 4
}
