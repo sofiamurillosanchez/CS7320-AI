{
 "cells": [
  {
   "cell_type": "markdown",
   "metadata": {},
   "source": [
    "# Solving the n-Queens Problem using Local Search\n",
    "\n",
    "## Instructions\n",
    "\n",
    "Total Points: Undergrads 100 / Graduate students 110\n",
    "\n",
    "Complete this notebook. Use the provided notebook cells and insert additional code and markdown cells as needed. Submit the completely rendered notebook as a PDF file. \n"
   ]
  },
  {
   "cell_type": "markdown",
   "metadata": {},
   "source": [
    "## The n-Queens Problem\n",
    "\n",
    "* __Goal:__ Find an arrangement of $n$ queens on a $n \\times n$ chess board so that no queen is on the same row, column or diagonal as any other queen.\n",
    "\n",
    "* __State space:__ An arrangement of the queens on the board. We restrict the state space to arrangements where there is only a single queen per column. We represent a state as an integer vector $\\mathbf{q} = \\{q_1, q_2, \\dots, q_n\\}$, each number representing the row positions of the queens from left to right. We will call a state a \"board.\"\n",
    "\n",
    "* __Objective function:__ The number of pairwise conflicts (i.e., two queens in the same row/column/diagonal).\n",
    "The optimization problem is to find the optimal arrangement $\\mathbf{q}^*$ of $n$ queens on the board can be written as:\n",
    "\n",
    "  > minimize: $\\mathrm{conflicts}(\\mathbf{q})$\n",
    "  >\n",
    "  > subject to: $\\mathbf{q} \\ \\text{contains only one queen per column}$\n",
    "\n",
    "  Note: the constraint (subject to) is enforced by the definition of the state space.\n",
    "\n",
    "* __Local improvement move:__ Move one queen to a different row in its column.\n",
    "\n",
    "* __Termination:__ For this problem there is always an arrangement $\\mathbf{q}^*$ with $\\mathrm{conflicts}(\\mathbf{q}^*) = 0$, however, the local improvement moves might end up in a local minimum. "
   ]
  },
  {
   "cell_type": "markdown",
   "metadata": {},
   "source": [
    "## Helper functions"
   ]
  },
  {
   "cell_type": "code",
   "execution_count": 1,
   "metadata": {},
   "outputs": [],
   "source": [
    "import numpy as np\n",
    "import matplotlib.pyplot as plt\n",
    "from matplotlib import colors\n",
    "\n",
    "np.random.seed(1234)\n",
    "\n",
    "\n",
    "def random_board(n):\n",
    "    \"\"\"Creates a random board of size n x n. Note that only a single queen is placed in each column!\"\"\"\n",
    "    \n",
    "    return(np.random.randint(0,n, size = n))\n",
    "\n",
    "def comb2(n): return n*(n-1)//2 # this is n choose 2 equivalent to math.comb(n, 2); // is int division\n",
    "\n",
    "def conflicts(board):\n",
    "    \"\"\"Caclulate the number of conflicts, i.e., the objective function.\"\"\"\n",
    "\n",
    "    n = len(board)\n",
    "    \n",
    "    horizontal_cnt = [0] * n\n",
    "    diagonal1_cnt = [0] * 2 * n\n",
    "    diagonal2_cnt = [0] * 2 * n\n",
    "    \n",
    "    for i in range(n):\n",
    "        horizontal_cnt[board[i]] += 1\n",
    "        diagonal1_cnt[i + board[i]] += 1\n",
    "        diagonal2_cnt[i - board[i] + n] += 1\n",
    "    \n",
    "    return sum(map(comb2, horizontal_cnt + diagonal1_cnt + diagonal2_cnt))\n",
    "\n",
    "\n",
    "def show_board(board, cols = ['white', 'gray'], fontsize = 48):  \n",
    "    \"\"\"display the board\"\"\"\n",
    "    \n",
    "    n = len(board)\n",
    "    \n",
    "    # create chess board display\n",
    "    display = np.zeros([n,n])\n",
    "    for i in range(n):\n",
    "        for j in range(n):\n",
    "            if (((i+j) % 2) != 0): \n",
    "                display[i,j] = 1\n",
    "    \n",
    "    cmap = colors.ListedColormap(cols)\n",
    "    fig, ax = plt.subplots()\n",
    "    ax.imshow(display, cmap = cmap, \n",
    "              norm = colors.BoundaryNorm(range(len(cols)+1), cmap.N))\n",
    "    ax.set_xticks([])\n",
    "    ax.set_yticks([])\n",
    "    \n",
    "    # place queens. Note: Unicode u265B is a black queen\n",
    "    for j in range(n):\n",
    "        plt.text(j, board[j], u\"\\u265B\", fontsize = fontsize, \n",
    "                 horizontalalignment = 'center',\n",
    "                 verticalalignment = 'center')\n",
    "    \n",
    "    print(f\"Board with {conflicts(board)} conflicts.\")\n",
    "    plt.show()"
   ]
  },
  {
   "cell_type": "markdown",
   "metadata": {},
   "source": [
    "## Create a board"
   ]
  },
  {
   "cell_type": "code",
   "execution_count": 2,
   "metadata": {},
   "outputs": [
    {
     "name": "stdout",
     "output_type": "stream",
     "text": [
      "Board with 4 conflicts.\n"
     ]
    },
    {
     "data": {
      "image/png": "[encoded data removed]",
      "text/plain": [
       "<Figure size 432x288 with 1 Axes>"
      ]
     },
     "metadata": {},
     "output_type": "display_data"
    },
    {
     "name": "stdout",
     "output_type": "stream",
     "text": [
      "Queens (left to right) are at rows: [3 3 2 1]\n",
      "Number of conflicts: 4\n"
     ]
    }
   ],
   "source": [
    "board = random_board(4)\n",
    "\n",
    "show_board(board)\n",
    "print(f\"Queens (left to right) are at rows: {board}\")\n",
    "print(f\"Number of conflicts: {conflicts(board)}\")"
   ]
  },
  {
   "cell_type": "markdown",
   "metadata": {},
   "source": [
    "A board $4 \\times 4$ with no conflicts:"
   ]
  },
  {
   "cell_type": "code",
   "execution_count": 3,
   "metadata": {},
   "outputs": [
    {
     "name": "stdout",
     "output_type": "stream",
     "text": [
      "Board with 0 conflicts.\n"
     ]
    },
    {
     "data": {
      "image/png": "[encoded data removed]",
      "text/plain": [
       "<Figure size 432x288 with 1 Axes>"
      ]
     },
     "metadata": {},
     "output_type": "display_data"
    }
   ],
   "source": [
    "board = [1,3,0,2]\n",
    "show_board(board)"
   ]
  },
  {
   "cell_type": "markdown",
   "metadata": {},
   "source": [
    "# Tasks\n",
    "\n",
    "## General [10 Points]\n",
    "\n",
    "1. Make sure that you use the latest version of this notebook. Sync your forked repository and pull the latest revision. \n",
    "2. Your implementation can use libraries like math, numpy, scipy, but not libraries that implement inteligent agents or complete search algorithms. Try to keep the code simple! In this course, we want to learn about the algorithms and we often do not need to use object-oriented design.\n",
    "3. You notebook needs to be formated professionally. \n",
    "    - Add additional markdown blocks for your description, comments in the code, add tables and use mathplotlib to produce charts where appropriate\n",
    "    - Do not show debugging output or include an excessive amount of output.\n",
    "    - Check that your PDF file is readable. For example, long lines are cut off in the PDF file. You don't have control over page breaks, so do not worry about these.\n",
    "4. Document your code. Add a short discussion of how your implementation works and your design choices."
   ]
  },
  {
   "cell_type": "markdown",
   "metadata": {},
   "source": [
    "## Task 1: Steepest-ascend Hill Climbing Search [30 Points]\n",
    "\n",
    "Calculate the objective function for all local moves (see definition of local moves above) and always choose the best among all local moves. If there are no local moves that improve the objective, then you have reached a local optimum. "
   ]
  },
  {
   "cell_type": "markdown",
   "metadata": {},
   "source": [
    "# ENTER DESCRIPTION HERE\n",
    "\n",
    "I did quite a bit of research on how to solve the n-queen problem using hill climbing search, and I found the following that guided my implementation: https://letstalkdata.com/2013/12/n-queens-part-1-steepest-hill-climbing/. I also used the class slides to help me with this assignment.\n",
    "\n",
    "In terms of how the implementation of steepest-ascend works..."
   ]
  },
  {
   "cell_type": "code",
   "execution_count": 4,
   "metadata": {},
   "outputs": [],
   "source": [
    "# Code and description go here\n",
    "def find_neighbor_steepest(board):\n",
    "    possible_moves = {}\n",
    "    \n",
    "    for col in range(len(board)):\n",
    "        curr_move = board[col]\n",
    "        \n",
    "        for row in range(len(board)):\n",
    "            if(board[col] == row):\n",
    "                continue\n",
    "            temp = list(board)\n",
    "            temp[col] = row\n",
    "            possible_moves[(col, row)] = conflicts(temp)\n",
    "    best_moves = {}\n",
    "    best_h = conflicts(board)\n",
    "    for key, value in possible_moves.items():\n",
    "        if value < best_h:\n",
    "            best_h = value\n",
    "            \n",
    "    for key, value in possible_moves.items():\n",
    "        if value == best_h:\n",
    "            best_moves[key] = value\n",
    "    # For steepest-ascend you have to choose the highest-valued successors\n",
    "    if best_moves:\n",
    "        best_move = min(best_moves.items(), key=lambda x: x[1]) \n",
    "        col = best_move[0][0]\n",
    "        row = best_move[0][1]\n",
    "        board[col] = row\n",
    "    \n",
    "    return board\n",
    "            \n"
   ]
  },
  {
   "cell_type": "code",
   "execution_count": 5,
   "metadata": {},
   "outputs": [],
   "source": [
    "def steepest_hill_climbing(board, verbose = True):\n",
    "    current = board\n",
    "    moves = 0\n",
    "    while conflicts(current) > 0 and moves < len(board)*len(board):\n",
    "        neighbor = find_neighbor_steepest(board)\n",
    "        if verbose: show_board(neighbor)\n",
    "        if(conflicts(neighbor) <= conflicts(current)):\n",
    "            current = neighbor\n",
    "        moves += 1    \n",
    "    return moves"
   ]
  },
  {
   "cell_type": "code",
   "execution_count": 6,
   "metadata": {},
   "outputs": [
    {
     "data": {
      "text/plain": [
       "5"
      ]
     },
     "execution_count": 6,
     "metadata": {},
     "output_type": "execute_result"
    }
   ],
   "source": [
    "board= random_board(8)\n",
    "\n",
    "steepest_hill_climbing(board, False)"
   ]
  },
  {
   "cell_type": "markdown",
   "metadata": {},
   "source": [
    "## Task 2: Stochastic Hill Climbing 1 [10 Points]\n",
    "\n",
    "Chooses randomly from among all uphill moves till you have reached a local optimum."
   ]
  },
  {
   "cell_type": "code",
   "execution_count": 7,
   "metadata": {},
   "outputs": [],
   "source": [
    "import random"
   ]
  },
  {
   "cell_type": "code",
   "execution_count": 8,
   "metadata": {},
   "outputs": [],
   "source": [
    "# Code and description go here\n",
    "def find_neighbor_stochastic(board):\n",
    "    possible_moves = {}\n",
    "    \n",
    "    for col in range(len(board)):\n",
    "        curr_move = board[col]\n",
    "        \n",
    "        for row in range(len(board)):\n",
    "            if(board[col] == row):\n",
    "                continue\n",
    "            temp = list(board)\n",
    "            temp[col] = row\n",
    "            possible_moves[(col, row)] = conflicts(temp)\n",
    "    uphill_moves = {}\n",
    "    best_h = conflicts(board)\n",
    "    for key, value in possible_moves.items():\n",
    "        if value < best_h:\n",
    "            best_h = value\n",
    "            \n",
    "    for key, value in possible_moves.items():\n",
    "        if value == best_h:\n",
    "            uphill_moves[key] = value\n",
    "\n",
    "    if uphill_moves:\n",
    "        next_move = random.choice(list(uphill_moves.items()))\n",
    "        col = next_move[0][0]\n",
    "        row = next_move[0][1]\n",
    "        board[col] = row\n",
    "    \n",
    "    return board\n",
    "            \n"
   ]
  },
  {
   "cell_type": "code",
   "execution_count": 9,
   "metadata": {},
   "outputs": [],
   "source": [
    "# Code and description go here\n",
    "\n",
    "def stochastic_hill_climbing(board, verbose = True):\n",
    "    current = board\n",
    "    moves = 0\n",
    "    while conflicts(current) > 0 and moves < len(board)*len(board):\n",
    "        neighbor = find_neighbor_stochastic(board)\n",
    "        if verbose: show_board(neighbor)\n",
    "        if(conflicts(neighbor) <= conflicts(current)):\n",
    "            current = neighbor\n",
    "        moves += 1    \n",
    "    return moves"
   ]
  },
  {
   "cell_type": "code",
   "execution_count": 10,
   "metadata": {},
   "outputs": [
    {
     "data": {
      "text/plain": [
       "8"
      ]
     },
     "execution_count": 10,
     "metadata": {},
     "output_type": "execute_result"
    }
   ],
   "source": [
    "board= random_board(8)\n",
    "\n",
    "stochastic_hill_climbing(board, False)"
   ]
  },
  {
   "cell_type": "markdown",
   "metadata": {},
   "source": [
    "## Task 3: Stochastic Hill Climbing 2 [20 Points]\n",
    "\n",
    "A popular version of stochastic hill climbing generates only a single random local neighbor at a time and accept it if it has a better objective function value than the current state. This is very efficient if each state has many possible successor states. This method is called \"First-choice hill climbing\" in the textbook.\n",
    "\n",
    "__Notes:__ \n",
    "\n",
    "* Detecting local optima is tricky! You can, for example, stop if you were not able to improve the objective function during the last $x$ tries."
   ]
  },
  {
   "cell_type": "code",
   "execution_count": 11,
   "metadata": {},
   "outputs": [],
   "source": [
    "# Code and description go here\n",
    "# Code and description go here\n",
    "def find_neighbor_stochastic2(board):\n",
    "    possible_moves = {}\n",
    "    \n",
    "    for col in range(len(board)):\n",
    "        curr_move = board[col]\n",
    "        \n",
    "        for row in range(len(board)):\n",
    "            if(board[col] == row):\n",
    "                continue\n",
    "            temp = list(board)\n",
    "            temp[col] = row\n",
    "            possible_moves[(col, row)] = conflicts(temp)\n",
    "    best_moves = {}\n",
    "    best_h = conflicts(board)\n",
    "    for key, value in possible_moves.items():\n",
    "        if value < best_h:\n",
    "            best_h = value\n",
    "            \n",
    "    for key, value in possible_moves.items():\n",
    "        if value == best_h:\n",
    "            best_moves[key] = value\n",
    "    # For steepest-ascend you have to choose the highest-valued successors\n",
    "    if best_moves:\n",
    "        best_move = random.choice(list(best_moves.items()))\n",
    "        for x in range(int(len(board)/2)):\n",
    "            curr_move = random.choice(list(best_moves.items()))\n",
    "            if curr_move[1] < best_move[1]:\n",
    "                best_move = curr_move\n",
    "        col = best_move[0][0]\n",
    "        row = best_move[0][1]\n",
    "        board[col] = row\n",
    "    \n",
    "    return board"
   ]
  },
  {
   "cell_type": "code",
   "execution_count": 12,
   "metadata": {},
   "outputs": [],
   "source": [
    "# Code and description go here\n",
    "\n",
    "def stochastic_hill_climbing2(board, verbose = True):\n",
    "    current = board\n",
    "    moves = 0\n",
    "    while conflicts(current) > 0 and moves < len(board)*len(board):\n",
    "        neighbor = find_neighbor_stochastic2(board)\n",
    "        if verbose: show_board(neighbor)\n",
    "        if(conflicts(neighbor) <= conflicts(current)):\n",
    "            current = neighbor\n",
    "        moves += 1\n",
    "    return moves"
   ]
  },
  {
   "cell_type": "code",
   "execution_count": 13,
   "metadata": {},
   "outputs": [
    {
     "data": {
      "text/plain": [
       "37"
      ]
     },
     "execution_count": 13,
     "metadata": {},
     "output_type": "execute_result"
    }
   ],
   "source": [
    "board= random_board(8)\n",
    "stochastic_hill_climbing2(board, False)"
   ]
  },
  {
   "cell_type": "markdown",
   "metadata": {},
   "source": [
    "## Task 4: Hill Climbing Search with Random Restarts [10 Points]\n",
    "\n",
    "Hill climbing will often end up in local optima. Restart the each of the three hill climbing algorithm up to 100 times with a random board to find a better (hopefully optimal) solution. Note that restart just means to run the algoithm several times starting with a new random board."
   ]
  },
  {
   "cell_type": "code",
   "execution_count": 14,
   "metadata": {},
   "outputs": [],
   "source": [
    "import numpy as np"
   ]
  },
  {
   "cell_type": "code",
   "execution_count": 15,
   "metadata": {},
   "outputs": [],
   "source": [
    "# Code and description go here\n",
    "def random_restarts(board, n, algorithm, verbose = True):\n",
    "    best_run = np.inf\n",
    "    worst_run = 0\n",
    "    sum_runs = 0\n",
    "    # Best run, worst run, average run\n",
    "    values = []\n",
    "    \n",
    "    if algorithm == \"steepest\":\n",
    "        for runs in range(10):\n",
    "            curr_run = steepest_hill_climbing(board, False)\n",
    "            sum_runs += curr_run\n",
    "            if curr_run < best_run:\n",
    "                best_run = curr_run\n",
    "            if curr_run > worst_run:\n",
    "                worst_run = curr_run\n",
    "            board = random_board(n)\n",
    "        if verbose: print(\"Optimal # of moves for an \", n, \"x\", n, \" board for Steepest Hill: \", best_run)\n",
    "    elif algorithm == \"stochastic\":\n",
    "        for runs in range(10):\n",
    "            curr_run = stochastic_hill_climbing2(board, False)\n",
    "            sum_runs += curr_run\n",
    "            if curr_run < best_run:\n",
    "                best_run = curr_run\n",
    "            if curr_run > worst_run:\n",
    "                worst_run = curr_run\n",
    "            board = random_board(n)\n",
    "        if verbose: print(\"Optimal # of moves for an \", n, \"x\", n, \" board for Stochastic Hill: \", best_run)\n",
    "    elif algorithm == \"stochastic2\":\n",
    "        for runs in range(10):\n",
    "            curr_run = stochastic_hill_climbing(board, False)\n",
    "            sum_runs += curr_run\n",
    "            if curr_run < best_run:\n",
    "                best_run = curr_run\n",
    "            if curr_run > worst_run:\n",
    "                worst_run = curr_run\n",
    "            board = random_board(n)\n",
    "        if verbose: print(\"Optimal # of moves for an \", n, \"x\", n, \" board for Stochastic Hill 2: \", best_run)\n",
    "    \n",
    "    average_run = sum_runs/100\n",
    "    values.append(n)\n",
    "    values.append(best_run)\n",
    "    values.append(worst_run)\n",
    "    values.append(average_run)\n",
    "    \n",
    "    return values\n",
    "    \n",
    "    "
   ]
  },
  {
   "cell_type": "code",
   "execution_count": 16,
   "metadata": {},
   "outputs": [
    {
     "name": "stdout",
     "output_type": "stream",
     "text": [
      "Optimal # of moves for an  8 x 8  board for Steepest Hill:  5\n"
     ]
    },
    {
     "data": {
      "text/plain": [
       "[8, 5, 64, 4.08]"
      ]
     },
     "execution_count": 16,
     "metadata": {},
     "output_type": "execute_result"
    }
   ],
   "source": [
    "board = random_board(8)\n",
    "random_restarts(board, 8, \"steepest\")"
   ]
  },
  {
   "cell_type": "code",
   "execution_count": 17,
   "metadata": {},
   "outputs": [
    {
     "name": "stdout",
     "output_type": "stream",
     "text": [
      "Optimal # of moves for an  8 x 8  board for Stochastic Hill:  5\n"
     ]
    },
    {
     "data": {
      "text/plain": [
       "[8, 5, 64, 2.29]"
      ]
     },
     "execution_count": 17,
     "metadata": {},
     "output_type": "execute_result"
    }
   ],
   "source": [
    "board = random_board(8)\n",
    "random_restarts(board, 8, \"stochastic\")"
   ]
  },
  {
   "cell_type": "code",
   "execution_count": 18,
   "metadata": {},
   "outputs": [
    {
     "name": "stdout",
     "output_type": "stream",
     "text": [
      "Optimal # of moves for an  8 x 8  board for Stochastic Hill 2:  5\n"
     ]
    },
    {
     "data": {
      "text/plain": [
       "[8, 5, 64, 2.49]"
      ]
     },
     "execution_count": 18,
     "metadata": {},
     "output_type": "execute_result"
    }
   ],
   "source": [
    "board = random_board(8)\n",
    "random_restarts(board, 8, \"stochastic2\")"
   ]
  },
  {
   "cell_type": "markdown",
   "metadata": {},
   "source": [
    "## Task 5: Compare Performance [20 Points]\n",
    "\n",
    "Use runtime and objective function value to compare the algorithms. \n",
    "\n",
    "* Use boards of different sizes to explore how the different algorithms perform. Make sure that you run the algorithms for each board size several times (at least 10 times) with different starting boards and report averages.\n",
    "\n",
    "* How do the algorithms scale with problem size? Use tables and charts.\n",
    "\n",
    "* What is the largest board each algorithm can solve in a reasonable amount time?\n",
    "\n",
    "See [Profiling Python Code](../Python_Code_Examples/profiling_code.ipynb) for help about how to measure runtime in Python."
   ]
  },
  {
   "cell_type": "code",
   "execution_count": 19,
   "metadata": {},
   "outputs": [],
   "source": [
    "from prettytable import PrettyTable"
   ]
  },
  {
   "cell_type": "code",
   "execution_count": 20,
   "metadata": {},
   "outputs": [],
   "source": [
    "t = PrettyTable(['Algorithm', 'Board Size' ,'Best Run (# Moves)', 'Worst Run (# Moves)', 'Average Run (# Moves)'])"
   ]
  },
  {
   "cell_type": "code",
   "execution_count": 21,
   "metadata": {},
   "outputs": [
    {
     "name": "stdout",
     "output_type": "stream",
     "text": [
      "Optimal # of moves for an  4 x 4  board for Steepest Hill:  1\n",
      "Optimal # of moves for an  8 x 8  board for Steepest Hill:  5\n",
      "Optimal # of moves for an  20 x 20  board for Steepest Hill:  12\n",
      "Optimal # of moves for an  32 x 32  board for Steepest Hill:  18\n"
     ]
    }
   ],
   "source": [
    "values = random_restarts(board, 4, \"steepest\")\n",
    "t.add_row(['Steepest Hill', values[0], values[1], values[2], values[3]])\n",
    "\n",
    "values = random_restarts(board, 8, \"steepest\")\n",
    "t.add_row(['Steepest Hill',values[0], values[1], values[2], values[3]])\n",
    "\n",
    "values = random_restarts(board, 20, \"steepest\")\n",
    "t.add_row(['Steepest Hill', values[0], values[1], values[2], values[3]])\n",
    "\n",
    "values = random_restarts(board, 32, \"steepest\")\n",
    "t.add_row(['Steepest Hill', values[0], values[1], values[2], values[3]])"
   ]
  },
  {
   "cell_type": "code",
   "execution_count": 22,
   "metadata": {},
   "outputs": [
    {
     "name": "stdout",
     "output_type": "stream",
     "text": [
      "Optimal # of moves for an  4 x 4  board for Stochastic Hill:  2\n",
      "Optimal # of moves for an  8 x 8  board for Stochastic Hill:  4\n",
      "Optimal # of moves for an  20 x 20  board for Stochastic Hill:  10\n",
      "Optimal # of moves for an  30 x 30  board for Stochastic Hill:  21\n"
     ]
    }
   ],
   "source": [
    "values = random_restarts(board, 4, \"stochastic\")\n",
    "t.add_row(['Stochastic Hill', values[0], values[1], values[2], values[3]])\n",
    "\n",
    "values = random_restarts(board, 8, \"stochastic\")\n",
    "t.add_row(['Stochastic Hill',values[0], values[1], values[2], values[3]])\n",
    "\n",
    "values = random_restarts(board, 20, \"stochastic\")\n",
    "t.add_row(['Stochastic Hill', values[0], values[1], values[2], values[3]])\n",
    "\n",
    "values = random_restarts(board, 30, \"stochastic\")\n",
    "t.add_row(['Stochastic Hill', values[0], values[1], values[2], values[3]])"
   ]
  },
  {
   "cell_type": "code",
   "execution_count": 23,
   "metadata": {},
   "outputs": [
    {
     "name": "stdout",
     "output_type": "stream",
     "text": [
      "Optimal # of moves for an  4 x 4  board for Stochastic Hill 2:  1\n",
      "Optimal # of moves for an  8 x 8  board for Stochastic Hill 2:  4\n",
      "Optimal # of moves for an  20 x 20  board for Stochastic Hill 2:  19\n",
      "Optimal # of moves for an  30 x 30  board for Stochastic Hill 2:  17\n"
     ]
    }
   ],
   "source": [
    "values = random_restarts(board, 4, \"stochastic2\")\n",
    "t.add_row(['Stochastic Hill 2', values[0], values[1], values[2], values[3]])\n",
    "\n",
    "values = random_restarts(board, 8, \"stochastic2\")\n",
    "t.add_row(['Stochastic Hill 2',values[0], values[1], values[2], values[3]])\n",
    "\n",
    "values = random_restarts(board, 20, \"stochastic2\")\n",
    "t.add_row(['Stochastic Hill 2', values[0], values[1], values[2], values[3]])\n",
    "\n",
    "values = random_restarts(board, 30, \"stochastic2\")\n",
    "t.add_row(['Stochastic Hill 2', values[0], values[1], values[2], values[3]])"
   ]
  },
  {
   "cell_type": "code",
   "execution_count": 31,
   "metadata": {},
   "outputs": [
    {
     "data": {
      "text/html": [
       "<table>\n",
       "    <thead>\n",
       "        <tr>\n",
       "            <th>Algorithm</th>\n",
       "            <th>Board Size</th>\n",
       "            <th>Best Run (# Moves)</th>\n",
       "            <th>Worst Run (# Moves)</th>\n",
       "            <th>Average Run (# Moves)</th>\n",
       "        </tr>\n",
       "    </thead>\n",
       "    <tbody>\n",
       "        <tr>\n",
       "            <td>Steepest Hill</td>\n",
       "            <td>4</td>\n",
       "            <td>1</td>\n",
       "            <td>64</td>\n",
       "            <td>0.87</td>\n",
       "        </tr>\n",
       "        <tr>\n",
       "            <td>Steepest Hill</td>\n",
       "            <td>8</td>\n",
       "            <td>5</td>\n",
       "            <td>64</td>\n",
       "            <td>5.25</td>\n",
       "        </tr>\n",
       "        <tr>\n",
       "            <td>Steepest Hill</td>\n",
       "            <td>20</td>\n",
       "            <td>12</td>\n",
       "            <td>400</td>\n",
       "            <td>28.9</td>\n",
       "        </tr>\n",
       "        <tr>\n",
       "            <td>Steepest Hill</td>\n",
       "            <td>32</td>\n",
       "            <td>18</td>\n",
       "            <td>1024</td>\n",
       "            <td>72.7</td>\n",
       "        </tr>\n",
       "        <tr>\n",
       "            <td>Stochastic Hill</td>\n",
       "            <td>4</td>\n",
       "            <td>2</td>\n",
       "            <td>64</td>\n",
       "            <td>0.92</td>\n",
       "        </tr>\n",
       "        <tr>\n",
       "            <td>Stochastic Hill</td>\n",
       "            <td>8</td>\n",
       "            <td>4</td>\n",
       "            <td>64</td>\n",
       "            <td>2.32</td>\n",
       "        </tr>\n",
       "        <tr>\n",
       "            <td>Stochastic Hill</td>\n",
       "            <td>20</td>\n",
       "            <td>10</td>\n",
       "            <td>88</td>\n",
       "            <td>3.55</td>\n",
       "        </tr>\n",
       "        <tr>\n",
       "            <td>Stochastic Hill</td>\n",
       "            <td>30</td>\n",
       "            <td>21</td>\n",
       "            <td>72</td>\n",
       "            <td>3.55</td>\n",
       "        </tr>\n",
       "        <tr>\n",
       "            <td>Stochastic Hill 2</td>\n",
       "            <td>4</td>\n",
       "            <td>1</td>\n",
       "            <td>64</td>\n",
       "            <td>0.9</td>\n",
       "        </tr>\n",
       "        <tr>\n",
       "            <td>Stochastic Hill 2</td>\n",
       "            <td>8</td>\n",
       "            <td>4</td>\n",
       "            <td>64</td>\n",
       "            <td>2.49</td>\n",
       "        </tr>\n",
       "        <tr>\n",
       "            <td>Stochastic Hill 2</td>\n",
       "            <td>20</td>\n",
       "            <td>19</td>\n",
       "            <td>64</td>\n",
       "            <td>3.46</td>\n",
       "        </tr>\n",
       "        <tr>\n",
       "            <td>Stochastic Hill 2</td>\n",
       "            <td>30</td>\n",
       "            <td>17</td>\n",
       "            <td>74</td>\n",
       "            <td>4.54</td>\n",
       "        </tr>\n",
       "    </tbody>\n",
       "</table>"
      ],
      "text/plain": [
       "|     Algorithm     | Board Size | Best Run (# Moves) | Worst Run (# Moves) | Average Run (# Moves) |\n",
       "|:-----------------:|:----------:|:------------------:|:-------------------:|:---------------------:|\n",
       "|   Steepest Hill   |     4      |         1          |          64         |          0.87         |\n",
       "|   Steepest Hill   |     8      |         5          |          64         |          5.25         |\n",
       "|   Steepest Hill   |     20     |         12         |         400         |          28.9         |\n",
       "|   Steepest Hill   |     32     |         18         |         1024        |          72.7         |\n",
       "|  Stochastic Hill  |     4      |         2          |          64         |          0.92         |\n",
       "|  Stochastic Hill  |     8      |         4          |          64         |          2.32         |\n",
       "|  Stochastic Hill  |     20     |         10         |          88         |          3.55         |\n",
       "|  Stochastic Hill  |     30     |         21         |          72         |          3.55         |\n",
       "| Stochastic Hill 2 |     4      |         1          |          64         |          0.9          |\n",
       "| Stochastic Hill 2 |     8      |         4          |          64         |          2.49         |\n",
       "| Stochastic Hill 2 |     20     |         19         |          64         |          3.46         |\n",
       "| Stochastic Hill 2 |     30     |         17         |          74         |          4.54         |"
      ]
     },
     "metadata": {},
     "output_type": "display_data"
    }
   ],
   "source": [
    "from prettytable import MARKDOWN\n",
    "from IPython.display import display, Markdown, Latex\n",
    "t.align = \"c\"\n",
    "t.set_style(MARKDOWN)\n",
    "display(t)"
   ]
  },
  {
   "cell_type": "code",
   "execution_count": 25,
   "metadata": {},
   "outputs": [],
   "source": [
    "import pandas as pd "
   ]
  },
  {
   "cell_type": "code",
   "execution_count": 35,
   "metadata": {},
   "outputs": [],
   "source": [
    "# Convert Table to Pandas Dataframe for Graph Purposes\n",
    "with open('output.csv', 'w', newline='') as f_output:\n",
    "    f_output.write(t.get_csv_string())\n",
    "f_output.close()\n",
    "    \n",
    "df = pd.read_csv('output.csv')"
   ]
  },
  {
   "cell_type": "code",
   "execution_count": 36,
   "metadata": {},
   "outputs": [
    {
     "data": {
      "text/html": [
       "<div>\n",
       "<style scoped>\n",
       "    .dataframe tbody tr th:only-of-type {\n",
       "        vertical-align: middle;\n",
       "    }\n",
       "\n",
       "    .dataframe tbody tr th {\n",
       "        vertical-align: top;\n",
       "    }\n",
       "\n",
       "    .dataframe thead th {\n",
       "        text-align: right;\n",
       "    }\n",
       "</style>\n",
       "<table border=\"1\" class=\"dataframe\">\n",
       "  <thead>\n",
       "    <tr style=\"text-align: right;\">\n",
       "      <th></th>\n",
       "      <th>Algorithm</th>\n",
       "      <th>Board Size</th>\n",
       "      <th>Best Run (# Moves)</th>\n",
       "      <th>Worst Run (# Moves)</th>\n",
       "      <th>Average Run (# Moves)</th>\n",
       "    </tr>\n",
       "  </thead>\n",
       "  <tbody>\n",
       "    <tr>\n",
       "      <th>0</th>\n",
       "      <td>Steepest Hill</td>\n",
       "      <td>4</td>\n",
       "      <td>1</td>\n",
       "      <td>64</td>\n",
       "      <td>0.87</td>\n",
       "    </tr>\n",
       "    <tr>\n",
       "      <th>1</th>\n",
       "      <td>Steepest Hill</td>\n",
       "      <td>8</td>\n",
       "      <td>5</td>\n",
       "      <td>64</td>\n",
       "      <td>5.25</td>\n",
       "    </tr>\n",
       "    <tr>\n",
       "      <th>2</th>\n",
       "      <td>Steepest Hill</td>\n",
       "      <td>20</td>\n",
       "      <td>12</td>\n",
       "      <td>400</td>\n",
       "      <td>28.90</td>\n",
       "    </tr>\n",
       "    <tr>\n",
       "      <th>3</th>\n",
       "      <td>Steepest Hill</td>\n",
       "      <td>32</td>\n",
       "      <td>18</td>\n",
       "      <td>1024</td>\n",
       "      <td>72.70</td>\n",
       "    </tr>\n",
       "    <tr>\n",
       "      <th>4</th>\n",
       "      <td>Stochastic Hill</td>\n",
       "      <td>4</td>\n",
       "      <td>2</td>\n",
       "      <td>64</td>\n",
       "      <td>0.92</td>\n",
       "    </tr>\n",
       "    <tr>\n",
       "      <th>5</th>\n",
       "      <td>Stochastic Hill</td>\n",
       "      <td>8</td>\n",
       "      <td>4</td>\n",
       "      <td>64</td>\n",
       "      <td>2.32</td>\n",
       "    </tr>\n",
       "    <tr>\n",
       "      <th>6</th>\n",
       "      <td>Stochastic Hill</td>\n",
       "      <td>20</td>\n",
       "      <td>10</td>\n",
       "      <td>88</td>\n",
       "      <td>3.55</td>\n",
       "    </tr>\n",
       "    <tr>\n",
       "      <th>7</th>\n",
       "      <td>Stochastic Hill</td>\n",
       "      <td>30</td>\n",
       "      <td>21</td>\n",
       "      <td>72</td>\n",
       "      <td>3.55</td>\n",
       "    </tr>\n",
       "    <tr>\n",
       "      <th>8</th>\n",
       "      <td>Stochastic Hill 2</td>\n",
       "      <td>4</td>\n",
       "      <td>1</td>\n",
       "      <td>64</td>\n",
       "      <td>0.90</td>\n",
       "    </tr>\n",
       "    <tr>\n",
       "      <th>9</th>\n",
       "      <td>Stochastic Hill 2</td>\n",
       "      <td>8</td>\n",
       "      <td>4</td>\n",
       "      <td>64</td>\n",
       "      <td>2.49</td>\n",
       "    </tr>\n",
       "    <tr>\n",
       "      <th>10</th>\n",
       "      <td>Stochastic Hill 2</td>\n",
       "      <td>20</td>\n",
       "      <td>19</td>\n",
       "      <td>64</td>\n",
       "      <td>3.46</td>\n",
       "    </tr>\n",
       "    <tr>\n",
       "      <th>11</th>\n",
       "      <td>Stochastic Hill 2</td>\n",
       "      <td>30</td>\n",
       "      <td>17</td>\n",
       "      <td>74</td>\n",
       "      <td>4.54</td>\n",
       "    </tr>\n",
       "  </tbody>\n",
       "</table>\n",
       "</div>"
      ],
      "text/plain": [
       "            Algorithm  Board Size  Best Run (# Moves)  Worst Run (# Moves)  \\\n",
       "0       Steepest Hill           4                   1                   64   \n",
       "1       Steepest Hill           8                   5                   64   \n",
       "2       Steepest Hill          20                  12                  400   \n",
       "3       Steepest Hill          32                  18                 1024   \n",
       "4     Stochastic Hill           4                   2                   64   \n",
       "5     Stochastic Hill           8                   4                   64   \n",
       "6     Stochastic Hill          20                  10                   88   \n",
       "7     Stochastic Hill          30                  21                   72   \n",
       "8   Stochastic Hill 2           4                   1                   64   \n",
       "9   Stochastic Hill 2           8                   4                   64   \n",
       "10  Stochastic Hill 2          20                  19                   64   \n",
       "11  Stochastic Hill 2          30                  17                   74   \n",
       "\n",
       "    Average Run (# Moves)  \n",
       "0                    0.87  \n",
       "1                    5.25  \n",
       "2                   28.90  \n",
       "3                   72.70  \n",
       "4                    0.92  \n",
       "5                    2.32  \n",
       "6                    3.55  \n",
       "7                    3.55  \n",
       "8                    0.90  \n",
       "9                    2.49  \n",
       "10                   3.46  \n",
       "11                   4.54  "
      ]
     },
     "execution_count": 36,
     "metadata": {},
     "output_type": "execute_result"
    }
   ],
   "source": [
    "df"
   ]
  },
  {
   "cell_type": "code",
   "execution_count": null,
   "metadata": {},
   "outputs": [],
   "source": []
  }
 ],
 "metadata": {
  "kernelspec": {
   "display_name": "Python 3 (ipykernel)",
   "language": "python",
   "name": "python3"
  },
  "language_info": {
   "codemirror_mode": {
    "name": "ipython",
    "version": 3
   },
   "file_extension": ".py",
   "mimetype": "text/x-python",
   "name": "python",
   "nbconvert_exporter": "python",
   "pygments_lexer": "ipython3",
   "version": "3.9.7"
  },
  "toc-autonumbering": false,
  "toc-showcode": false,
  "toc-showmarkdowntxt": false,
  "toc-showtags": false
 },
 "nbformat": 4,
 "nbformat_minor": 4
}
