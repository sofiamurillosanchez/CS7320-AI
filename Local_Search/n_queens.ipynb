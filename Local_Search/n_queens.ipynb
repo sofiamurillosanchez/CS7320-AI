{
 "cells": [
  {
   "cell_type": "markdown",
   "metadata": {},
   "source": [
    "# Solving the n-Queens Problem using Local Search\n",
    "\n",
    "## Instructions\n",
    "\n",
    "Total Points: Undergrads 100 / Graduate students 110\n",
    "\n",
    "Complete this notebook. Use the provided notebook cells and insert additional code and markdown cells as needed. Submit the completely rendered notebook as a PDF file. \n"
   ]
  },
  {
   "cell_type": "markdown",
   "metadata": {},
   "source": [
    "## The n-Queens Problem\n",
    "\n",
    "* __Goal:__ Find an arrangement of $n$ queens on a $n \\times n$ chess board so that no queen is on the same row, column or diagonal as any other queen.\n",
    "\n",
    "* __State space:__ An arrangement of the queens on the board. We restrict the state space to arrangements where there is only a single queen per column. We represent a state as an integer vector $\\mathbf{q} = \\{q_1, q_2, \\dots, q_n\\}$, each number representing the row positions of the queens from left to right. We will call a state a \"board.\"\n",
    "\n",
    "* __Objective function:__ The number of pairwise conflicts (i.e., two queens in the same row/column/diagonal).\n",
    "The optimization problem is to find the optimal arrangement $\\mathbf{q}^*$ of $n$ queens on the board can be written as:\n",
    "\n",
    "  > minimize: $\\mathrm{conflicts}(\\mathbf{q})$\n",
    "  >\n",
    "  > subject to: $\\mathbf{q} \\ \\text{contains only one queen per column}$\n",
    "\n",
    "  Note: the constraint (subject to) is enforced by the definition of the state space.\n",
    "\n",
    "* __Local improvement move:__ Move one queen to a different row in its column.\n",
    "\n",
    "* __Termination:__ For this problem there is always an arrangement $\\mathbf{q}^*$ with $\\mathrm{conflicts}(\\mathbf{q}^*) = 0$, however, the local improvement moves might end up in a local minimum. "
   ]
  },
  {
   "cell_type": "markdown",
   "metadata": {},
   "source": [
    "## Helper functions"
   ]
  },
  {
   "cell_type": "code",
   "execution_count": 1,
   "metadata": {},
   "outputs": [],
   "source": [
    "import numpy as np\n",
    "import matplotlib.pyplot as plt\n",
    "from matplotlib import colors\n",
    "\n",
    "np.random.seed(1234)\n",
    "\n",
    "\n",
    "def random_board(n):\n",
    "    \"\"\"Creates a random board of size n x n. Note that only a single queen is placed in each column!\"\"\"\n",
    "    \n",
    "    return(np.random.randint(0,n, size = n))\n",
    "\n",
    "def comb2(n): return n*(n-1)//2 # this is n choose 2 equivalent to math.comb(n, 2); // is int division\n",
    "\n",
    "def conflicts(board):\n",
    "    \"\"\"Caclulate the number of conflicts, i.e., the objective function.\"\"\"\n",
    "\n",
    "    n = len(board)\n",
    "    \n",
    "    horizontal_cnt = [0] * n\n",
    "    diagonal1_cnt = [0] * 2 * n\n",
    "    diagonal2_cnt = [0] * 2 * n\n",
    "    \n",
    "    for i in range(n):\n",
    "        horizontal_cnt[board[i]] += 1\n",
    "        diagonal1_cnt[i + board[i]] += 1\n",
    "        diagonal2_cnt[i - board[i] + n] += 1\n",
    "    \n",
    "    return sum(map(comb2, horizontal_cnt + diagonal1_cnt + diagonal2_cnt))\n",
    "\n",
    "\n",
    "def show_board(board, cols = ['white', 'gray'], fontsize = 48):  \n",
    "    \"\"\"display the board\"\"\"\n",
    "    \n",
    "    n = len(board)\n",
    "    \n",
    "    # create chess board display\n",
    "    display = np.zeros([n,n])\n",
    "    for i in range(n):\n",
    "        for j in range(n):\n",
    "            if (((i+j) % 2) != 0): \n",
    "                display[i,j] = 1\n",
    "    \n",
    "    cmap = colors.ListedColormap(cols)\n",
    "    fig, ax = plt.subplots()\n",
    "    ax.imshow(display, cmap = cmap, \n",
    "              norm = colors.BoundaryNorm(range(len(cols)+1), cmap.N))\n",
    "    ax.set_xticks([])\n",
    "    ax.set_yticks([])\n",
    "    \n",
    "    # place queens. Note: Unicode u265B is a black queen\n",
    "    for j in range(n):\n",
    "        plt.text(j, board[j], u\"\\u265B\", fontsize = fontsize, \n",
    "                 horizontalalignment = 'center',\n",
    "                 verticalalignment = 'center')\n",
    "    \n",
    "    print(f\"Board with {conflicts(board)} conflicts.\")\n",
    "    plt.show()"
   ]
  },
  {
   "cell_type": "markdown",
   "metadata": {},
   "source": [
    "## Create a board"
   ]
  },
  {
   "cell_type": "code",
   "execution_count": 2,
   "metadata": {},
   "outputs": [
    {
     "name": "stdout",
     "output_type": "stream",
     "text": [
      "Board with 4 conflicts.\n"
     ]
    },
    {
     "data": {
      "image/png": "[encoded data removed]",
      "text/plain": [
       "<Figure size 432x288 with 1 Axes>"
      ]
     },
     "metadata": {},
     "output_type": "display_data"
    },
    {
     "name": "stdout",
     "output_type": "stream",
     "text": [
      "Queens (left to right) are at rows: [3 3 2 1]\n",
      "Number of conflicts: 4\n"
     ]
    }
   ],
   "source": [
    "board = random_board(4)\n",
    "\n",
    "show_board(board)\n",
    "print(f\"Queens (left to right) are at rows: {board}\")\n",
    "print(f\"Number of conflicts: {conflicts(board)}\")"
   ]
  },
  {
   "cell_type": "markdown",
   "metadata": {},
   "source": [
    "A board $4 \\times 4$ with no conflicts:"
   ]
  },
  {
   "cell_type": "code",
   "execution_count": 3,
   "metadata": {},
   "outputs": [
    {
     "name": "stdout",
     "output_type": "stream",
     "text": [
      "Board with 0 conflicts.\n"
     ]
    },
    {
     "data": {
      "image/png": "[encoded data removed]",
      "text/plain": [
       "<Figure size 432x288 with 1 Axes>"
      ]
     },
     "metadata": {},
     "output_type": "display_data"
    }
   ],
   "source": [
    "board = [1,3,0,2]\n",
    "show_board(board)"
   ]
  },
  {
   "cell_type": "markdown",
   "metadata": {},
   "source": [
    "# Tasks\n",
    "\n",
    "## General [10 Points]\n",
    "\n",
    "1. Make sure that you use the latest version of this notebook. Sync your forked repository and pull the latest revision. \n",
    "2. Your implementation can use libraries like math, numpy, scipy, but not libraries that implement inteligent agents or complete search algorithms. Try to keep the code simple! In this course, we want to learn about the algorithms and we often do not need to use object-oriented design.\n",
    "3. You notebook needs to be formated professionally. \n",
    "    - Add additional markdown blocks for your description, comments in the code, add tables and use mathplotlib to produce charts where appropriate\n",
    "    - Do not show debugging output or include an excessive amount of output.\n",
    "    - Check that your PDF file is readable. For example, long lines are cut off in the PDF file. You don't have control over page breaks, so do not worry about these.\n",
    "4. Document your code. Add a short discussion of how your implementation works and your design choices."
   ]
  },
  {
   "cell_type": "markdown",
   "metadata": {},
   "source": [
    "## Task 1: Steepest-ascend Hill Climbing Search [30 Points]\n",
    "\n",
    "Calculate the objective function for all local moves (see definition of local moves above) and always choose the best among all local moves. If there are no local moves that improve the objective, then you have reached a local optimum. "
   ]
  },
  {
   "cell_type": "markdown",
   "metadata": {},
   "source": [
    "## Implementation Description\n",
    "\n",
    "I did quite a bit of research on how to solve the n-queen problem using hill climbing search, and I found the following that guided my implementation: https://letstalkdata.com/2013/12/n-queens-part-1-steepest-hill-climbing/. I also used the class slides to help me with this assignment.\n",
    "\n",
    "**In terms of how my implementation of steepest-ascend works:**\n",
    "* I iterate through the rows and columns of the board and I find all of the possible moves and their associated number of conflicts.\n",
    "* From there, I iterate through the possible moves and check to see if the number of conflicts--which would be h in this case--is less than that of the \"best_h\" which is just the current state of the board.\n",
    "* I then find the \"best\" move from all of the best moves, which would just be the minimum number of conflicts/the highest-valued successor.\n",
    "* Throughout all of this, I am tracking the number of moves. If I happen to get stuck at a local optimum, I will continue finding neighbors until the number of moves reaches the size of the board squared (n^2)."
   ]
  },
  {
   "cell_type": "code",
   "execution_count": 4,
   "metadata": {},
   "outputs": [],
   "source": [
    "# Code and description go here\n",
    "def find_neighbor_steepest(board):\n",
    "    possible_moves = {} #Initialize possible_moves dictionary\n",
    "    \n",
    "    # Iterate through all of the possible moves\n",
    "    for col in range(len(board)):\n",
    "        curr_move = board[col]\n",
    "        \n",
    "        for row in range(len(board)):\n",
    "            if(board[col] == row): \n",
    "                continue\n",
    "            temp = list(board) # Create a temp board by converting board to a list\n",
    "            temp[col] = row\n",
    "            possible_moves[(col, row)] = conflicts(temp) # Store number of conflicts as value of possible moves\n",
    "    best_moves = {}\n",
    "    best_h = conflicts(board)\n",
    "    \n",
    "    # Iterate through possible moves and check to see which value has the best h\n",
    "    for key, value in possible_moves.items():\n",
    "        if value < best_h:\n",
    "            best_h = value\n",
    "            \n",
    "    for key, value in possible_moves.items():\n",
    "        if value == best_h:\n",
    "            best_moves[key] = value\n",
    "    # For steepest-ascend you have to choose the highest-valued successors, so get min of the best moves \n",
    "    if best_moves:\n",
    "        best_move = min(best_moves.items(), key=lambda x: x[1]) \n",
    "        col = best_move[0][0]\n",
    "        row = best_move[0][1]\n",
    "        board[col] = row\n",
    "    else: \n",
    "        return board\n",
    "    \n",
    "    return board\n",
    "            \n"
   ]
  },
  {
   "cell_type": "code",
   "execution_count": 5,
   "metadata": {},
   "outputs": [],
   "source": [
    "def steepest_hill_climbing(board, verbose = True):\n",
    "    current = board\n",
    "    moves = 0\n",
    "    while conflicts(current) > 0 and moves < len(board)*len(board): # Run until 0 conflicts or until moves > n*n\n",
    "        neighbor = find_neighbor_steepest(board)\n",
    "        if verbose: show_board(neighbor)\n",
    "        if(conflicts(neighbor) <= conflicts(current)):\n",
    "            current = neighbor\n",
    "        moves += 1    \n",
    "    return moves"
   ]
  },
  {
   "cell_type": "code",
   "execution_count": 6,
   "metadata": {},
   "outputs": [
    {
     "data": {
      "text/plain": [
       "5"
      ]
     },
     "execution_count": 6,
     "metadata": {},
     "output_type": "execute_result"
    }
   ],
   "source": [
    "board= random_board(8)\n",
    "\n",
    "steepest_hill_climbing(board, False)"
   ]
  },
  {
   "cell_type": "markdown",
   "metadata": {},
   "source": [
    "## Task 2: Stochastic Hill Climbing 1 [10 Points]\n",
    "\n",
    "Chooses randomly from among all uphill moves till you have reached a local optimum."
   ]
  },
  {
   "cell_type": "markdown",
   "metadata": {},
   "source": [
    "## Implementation Description\n",
    "\n",
    "Similar to my steepest hill implementation, I followed the same general implementation for stochastic hill climbing. However, the one major change is that rather than finding the highest value successor from all of the \"best\" moves (which would all just be the uphill moves since you can only move uphill if the number of conflicts is less than the current state) I just choose randomly.\n",
    "\n",
    "If I get stuck in a local optimum, I follow the same logic, again, of running until n*n moves are made."
   ]
  },
  {
   "cell_type": "code",
   "execution_count": 7,
   "metadata": {},
   "outputs": [],
   "source": [
    "import random"
   ]
  },
  {
   "cell_type": "code",
   "execution_count": 8,
   "metadata": {},
   "outputs": [],
   "source": [
    "# Same implementatin as steepest hill\n",
    "def find_neighbor_stochastic(board):\n",
    "    possible_moves = {}\n",
    "    \n",
    "    for col in range(len(board)):\n",
    "        curr_move = board[col]\n",
    "        \n",
    "        for row in range(len(board)):\n",
    "            if(board[col] == row):\n",
    "                continue\n",
    "            temp = list(board)\n",
    "            temp[col] = row\n",
    "            possible_moves[(col, row)] = conflicts(temp)\n",
    "    uphill_moves = {}\n",
    "    best_h = conflicts(board)\n",
    "    for key, value in possible_moves.items():\n",
    "        if value < best_h:\n",
    "            best_h = value\n",
    "            \n",
    "    for key, value in possible_moves.items():\n",
    "        if value == best_h:\n",
    "            uphill_moves[key] = value\n",
    "\n",
    "    if uphill_moves:\n",
    "        next_move = random.choice(list(uphill_moves.items())) # Choose random move from all uphill moves\n",
    "        col = next_move[0][0]\n",
    "        row = next_move[0][1]\n",
    "        board[col] = row\n",
    "    \n",
    "    return board\n",
    "            \n"
   ]
  },
  {
   "cell_type": "code",
   "execution_count": 9,
   "metadata": {},
   "outputs": [],
   "source": [
    "# No change to these definitions since it's just finding the neighbors\n",
    "\n",
    "def stochastic_hill_climbing(board, verbose = True):\n",
    "    current = board\n",
    "    moves = 0\n",
    "    while conflicts(current) > 0 and moves < len(board)*len(board):\n",
    "        neighbor = find_neighbor_stochastic(board)\n",
    "        if verbose: show_board(neighbor)\n",
    "        if(conflicts(neighbor) <= conflicts(current)):\n",
    "            current = neighbor\n",
    "        moves += 1    \n",
    "    return moves"
   ]
  },
  {
   "cell_type": "code",
   "execution_count": 10,
   "metadata": {},
   "outputs": [
    {
     "data": {
      "text/plain": [
       "32"
      ]
     },
     "execution_count": 10,
     "metadata": {},
     "output_type": "execute_result"
    }
   ],
   "source": [
    "board= random_board(8)\n",
    "\n",
    "stochastic_hill_climbing(board, False)"
   ]
  },
  {
   "cell_type": "markdown",
   "metadata": {},
   "source": [
    "## Task 3: Stochastic Hill Climbing 2 [20 Points]\n",
    "\n",
    "A popular version of stochastic hill climbing generates only a single random local neighbor at a time and accept it if it has a better objective function value than the current state. This is very efficient if each state has many possible successor states. This method is called \"First-choice hill climbing\" in the textbook.\n",
    "\n",
    "__Notes:__ \n",
    "\n",
    "* Detecting local optima is tricky! You can, for example, stop if you were not able to improve the objective function during the last $x$ tries."
   ]
  },
  {
   "cell_type": "markdown",
   "metadata": {},
   "source": [
    "## Implementation Description\n",
    "\n",
    "For stochastic hill climbing 2, I followed basically the exact same implementation as stochastic hill climbing 1. **However,** the one main difference is that I avoid running into local optima by only checking random values n/2 times. This way, I limit the program from continuing in endless cycles but still maintains the randomness of it."
   ]
  },
  {
   "cell_type": "code",
   "execution_count": 11,
   "metadata": {},
   "outputs": [],
   "source": [
    "# Same implementation as stochastic except ideal random choice is made.\n",
    "def find_neighbor_stochastic2(board):\n",
    "    possible_moves = {}\n",
    "    \n",
    "    for col in range(len(board)):\n",
    "        curr_move = board[col]\n",
    "        \n",
    "        for row in range(len(board)):\n",
    "            if(board[col] == row):\n",
    "                continue\n",
    "            temp = list(board)\n",
    "            temp[col] = row\n",
    "            possible_moves[(col, row)] = conflicts(temp)\n",
    "    best_moves = {}\n",
    "    best_h = conflicts(board)\n",
    "    for key, value in possible_moves.items():\n",
    "        if value < best_h:\n",
    "            best_h = value\n",
    "            \n",
    "    for key, value in possible_moves.items():\n",
    "        if value == best_h:\n",
    "            best_moves[key] = value\n",
    "            \n",
    "    if best_moves:\n",
    "        best_move = random.choice(list(best_moves.items())) # Set best choice as the first random move\n",
    "        for x in range(int(len(board)/2)):\n",
    "            curr_move = random.choice(list(best_moves.items()))\n",
    "            if curr_move[1] < best_move[1]: # check values of next valued choice. If less conflicts then best = curr\n",
    "                best_move = curr_move\n",
    "        col = best_move[0][0]\n",
    "        row = best_move[0][1]\n",
    "        board[col] = row\n",
    "    \n",
    "    return board"
   ]
  },
  {
   "cell_type": "code",
   "execution_count": 12,
   "metadata": {},
   "outputs": [],
   "source": [
    "# Same as before. No changes to this specific definition.\n",
    "\n",
    "def stochastic_hill_climbing2(board, verbose = True):\n",
    "    current = board\n",
    "    moves = 0\n",
    "    while conflicts(current) > 0 and moves < len(board)*len(board):\n",
    "        neighbor = find_neighbor_stochastic2(board)\n",
    "        if verbose: show_board(neighbor)\n",
    "        if(conflicts(neighbor) <= conflicts(current)):\n",
    "            current = neighbor\n",
    "        moves += 1\n",
    "    return moves"
   ]
  },
  {
   "cell_type": "code",
   "execution_count": 13,
   "metadata": {},
   "outputs": [
    {
     "data": {
      "text/plain": [
       "64"
      ]
     },
     "execution_count": 13,
     "metadata": {},
     "output_type": "execute_result"
    }
   ],
   "source": [
    "board= random_board(8)\n",
    "stochastic_hill_climbing2(board, False)"
   ]
  },
  {
   "cell_type": "markdown",
   "metadata": {},
   "source": [
    "## Task 4: Hill Climbing Search with Random Restarts [10 Points]\n",
    "\n",
    "Hill climbing will often end up in local optima. Restart the each of the three hill climbing algorithm up to 100 times with a random board to find a better (hopefully optimal) solution. Note that restart just means to run the algoithm several times starting with a new random board."
   ]
  },
  {
   "cell_type": "markdown",
   "metadata": {},
   "source": [
    "## Implementation Description\n",
    "\n",
    "For the hill climbing search with random restarts, I essentially created a function that tracks:\n",
    "* Best Run (Least number of moves)\n",
    "* Worst Run (Most number of moves)\n",
    "* Average Run (Average number of moves)\n",
    "* Best Time (Least amount of time)\n",
    "* Worst Time (Most amount of time)\n",
    "* Average Time (Average amount of time)\n",
    "\n",
    "For each of the algorithms. This function accepts the board, board size, algorithm to run, and the number of runs."
   ]
  },
  {
   "cell_type": "code",
   "execution_count": 14,
   "metadata": {},
   "outputs": [],
   "source": [
    "import numpy as np\n",
    "import time"
   ]
  },
  {
   "cell_type": "code",
   "execution_count": 15,
   "metadata": {},
   "outputs": [],
   "source": [
    "# Random Restarts Implementation\n",
    "def random_restarts(board, n, algorithm, num_runs, verbose = True):\n",
    "    # Best run, worst run, average run same for time\n",
    "    best_run = np.inf\n",
    "    worst_run = 0\n",
    "    sum_runs = 0\n",
    "    best_time = 0\n",
    "    worst_time = 0\n",
    "    sum_time = 0\n",
    "    \n",
    "    values = []\n",
    "    \n",
    "    # Run the algorithms exclusively for those passed in.\n",
    "    if algorithm == \"steepest\":\n",
    "        for runs in range(num_runs):\n",
    "            st = time.time() # Start time\n",
    "            curr_run = steepest_hill_climbing(board, False)\n",
    "            end = time.time() # End time\n",
    "            sum_runs += curr_run\n",
    "            sum_time += (end-st)\n",
    "            if curr_run < best_run: # best run\n",
    "                best_run = curr_run\n",
    "                best_time = end-st\n",
    "            if curr_run > worst_run: # worst run\n",
    "                worst_run = curr_run\n",
    "                worst_time = end-st\n",
    "            board = random_board(n) # Reset the board\n",
    "        if verbose: print(\"Optimal # of moves for an \", n, \"x\", n, \" board for Steepest Hill: \", best_run)\n",
    "    elif algorithm == \"stochastic\":\n",
    "        for runs in range(num_runs):\n",
    "            st = time.time()\n",
    "            curr_run = stochastic_hill_climbing2(board, False)\n",
    "            end = time.time()\n",
    "            sum_runs += curr_run\n",
    "            sum_time += (end-st)\n",
    "            if curr_run < best_run:\n",
    "                best_run = curr_run\n",
    "                best_time = end-st\n",
    "            if curr_run > worst_run:\n",
    "                worst_run = curr_run\n",
    "                worst_time = end-st\n",
    "            board = random_board(n)\n",
    "        if verbose: print(\"Optimal # of moves for an \", n, \"x\", n, \" board for Stochastic Hill: \", best_run)\n",
    "    elif algorithm == \"stochastic2\":\n",
    "        for runs in range(num_runs):\n",
    "            st = time.time()\n",
    "            curr_run = stochastic_hill_climbing(board, False)\n",
    "            end = time.time()\n",
    "            sum_runs += curr_run\n",
    "            sum_time += (end-st)\n",
    "            if curr_run < best_run:\n",
    "                best_run = curr_run\n",
    "                best_time = end-st\n",
    "            if curr_run > worst_run:\n",
    "                worst_run = curr_run\n",
    "                worst_time = end-st\n",
    "            board = random_board(n)\n",
    "        if verbose: print(\"Optimal # of moves for an \", n, \"x\", n, \" board for Stochastic Hill 2: \", best_run)\n",
    "    # Calculate averages and append all values to the values list\n",
    "    average_run = sum_runs/num_runs\n",
    "    avg_time = sum_time/num_runs\n",
    "    values.append(n)\n",
    "    values.append(best_run)\n",
    "    values.append(worst_run)\n",
    "    values.append(average_run)\n",
    "    values.append(best_time)\n",
    "    values.append(worst_time)\n",
    "    values.append(avg_time)\n",
    "    \n",
    "    return values\n",
    "    \n",
    "    "
   ]
  },
  {
   "cell_type": "code",
   "execution_count": 16,
   "metadata": {},
   "outputs": [
    {
     "name": "stdout",
     "output_type": "stream",
     "text": [
      "Optimal # of moves for an  8 x 8  board for Steepest Hill:  2\n"
     ]
    },
    {
     "data": {
      "text/plain": [
       "[8,\n",
       " 2,\n",
       " 64,\n",
       " 45.78,\n",
       " 0.0011849403381347656,\n",
       " 0.03803706169128418,\n",
       " 0.026772890090942383]"
      ]
     },
     "execution_count": 16,
     "metadata": {},
     "output_type": "execute_result"
    }
   ],
   "source": [
    "board = random_board(8)\n",
    "random_restarts(board, 8, \"steepest\", 100)"
   ]
  },
  {
   "cell_type": "code",
   "execution_count": 17,
   "metadata": {},
   "outputs": [
    {
     "name": "stdout",
     "output_type": "stream",
     "text": [
      "Optimal # of moves for an  8 x 8  board for Stochastic Hill:  3\n"
     ]
    },
    {
     "data": {
      "text/plain": [
       "[8,\n",
       " 3,\n",
       " 64,\n",
       " 21.62,\n",
       " 0.0018429756164550781,\n",
       " 0.037711143493652344,\n",
       " 0.012920143604278565]"
      ]
     },
     "execution_count": 17,
     "metadata": {},
     "output_type": "execute_result"
    }
   ],
   "source": [
    "board = random_board(8)\n",
    "random_restarts(board, 8, \"stochastic\", 100)"
   ]
  },
  {
   "cell_type": "code",
   "execution_count": 18,
   "metadata": {},
   "outputs": [
    {
     "name": "stdout",
     "output_type": "stream",
     "text": [
      "Optimal # of moves for an  8 x 8  board for Stochastic Hill 2:  3\n"
     ]
    },
    {
     "data": {
      "text/plain": [
       "[8,\n",
       " 3,\n",
       " 64,\n",
       " 20.05,\n",
       " 0.0017800331115722656,\n",
       " 0.03828930854797363,\n",
       " 0.011861884593963623]"
      ]
     },
     "execution_count": 18,
     "metadata": {},
     "output_type": "execute_result"
    }
   ],
   "source": [
    "board = random_board(8)\n",
    "random_restarts(board, 8, \"stochastic2\", 100)"
   ]
  },
  {
   "cell_type": "markdown",
   "metadata": {},
   "source": [
    "## Task 5: Compare Performance [20 Points]\n",
    "\n",
    "Use runtime and objective function value to compare the algorithms. \n",
    "\n",
    "* Use boards of different sizes to explore how the different algorithms perform. Make sure that you run the algorithms for each board size several times (at least 10 times) with different starting boards and report averages.\n",
    "\n",
    "* How do the algorithms scale with problem size? Use tables and charts.\n",
    "\n",
    "* What is the largest board each algorithm can solve in a reasonable amount time?\n",
    "\n",
    "See [Profiling Python Code](../Python_Code_Examples/profiling_code.ipynb) for help about how to measure runtime in Python."
   ]
  },
  {
   "cell_type": "markdown",
   "metadata": {},
   "source": [
    "## How I measured performance\n",
    "\n",
    "To measure the performance, I essentially call the random restarts function and create boards of sizes:\n",
    "* 4\n",
    "* 8\n",
    "* 20\n",
    "* 30\n",
    "* 50\n",
    "\n",
    "with only 10 runs per function call. From there, I store the values mentioned in the previous section and store them in a Pretty Table. I then put those values into a datafram to plot using seaborn."
   ]
  },
  {
   "cell_type": "code",
   "execution_count": 19,
   "metadata": {},
   "outputs": [],
   "source": [
    "from prettytable import PrettyTable"
   ]
  },
  {
   "cell_type": "code",
   "execution_count": 20,
   "metadata": {},
   "outputs": [],
   "source": [
    "t = PrettyTable(['Algorithm', 'Board Size' ,'Best Run (# Moves)', 'Worst Run (# Moves)', 'Average Run (# Moves)', 'Best Time (s)', 'Worst Time (s)', 'Average Time (s)'])"
   ]
  },
  {
   "cell_type": "code",
   "execution_count": 21,
   "metadata": {},
   "outputs": [
    {
     "name": "stdout",
     "output_type": "stream",
     "text": [
      "Optimal # of moves for an  4 x 4  board for Steepest Hill:  2\n",
      "Optimal # of moves for an  8 x 8  board for Steepest Hill:  3\n",
      "Optimal # of moves for an  20 x 20  board for Steepest Hill:  9\n",
      "Optimal # of moves for an  30 x 30  board for Steepest Hill:  14\n",
      "Optimal # of moves for an  50 x 50  board for Steepest Hill:  31\n"
     ]
    }
   ],
   "source": [
    "# Run algorithms and store each run into the table\n",
    "board = random_board(4)\n",
    "values = random_restarts(board, 4, \"steepest\", 10)\n",
    "t.add_row(['Steepest Hill', values[0], values[1], values[2], values[3], values[4], values[5], values[6]])\n",
    "\n",
    "board = random_board(8)\n",
    "values = random_restarts(board, 8, \"steepest\", 10)\n",
    "t.add_row(['Steepest Hill',values[0], values[1], values[2], values[3], values[4], values[5], values[6]])\n",
    "\n",
    "board = random_board(20)\n",
    "values = random_restarts(board, 20, \"steepest\", 10)\n",
    "t.add_row(['Steepest Hill', values[0], values[1], values[2], values[3], values[4], values[5], values[6]])\n",
    "\n",
    "board = random_board(30)\n",
    "values = random_restarts(board, 30, \"steepest\", 10)\n",
    "t.add_row(['Steepest Hill', values[0], values[1], values[2], values[3], values[4], values[5], values[6]])\n",
    "\n",
    "board = random_board(50)\n",
    "values = random_restarts(board, 50, \"steepest\", 10)\n",
    "t.add_row(['Steepest Hill', values[0], values[1], values[2], values[3], values[4], values[5], values[6]])"
   ]
  },
  {
   "cell_type": "code",
   "execution_count": 22,
   "metadata": {},
   "outputs": [
    {
     "name": "stdout",
     "output_type": "stream",
     "text": [
      "Optimal # of moves for an  4 x 4  board for Stochastic Hill:  2\n",
      "Optimal # of moves for an  8 x 8  board for Stochastic Hill:  6\n",
      "Optimal # of moves for an  20 x 20  board for Stochastic Hill:  12\n",
      "Optimal # of moves for an  30 x 30  board for Stochastic Hill:  17\n",
      "Optimal # of moves for an  50 x 50  board for Stochastic Hill:  28\n"
     ]
    }
   ],
   "source": [
    "board = random_board(4)\n",
    "values = random_restarts(board, 4, \"stochastic\", 10)\n",
    "t.add_row(['Stochastic Hill', values[0], values[1], values[2], values[3], values[4], values[5], values[6]])\n",
    "\n",
    "board = random_board(8)\n",
    "values = random_restarts(board, 8, \"stochastic\", 10)\n",
    "t.add_row(['Stochastic Hill',values[0], values[1], values[2], values[3], values[4], values[5], values[6]])\n",
    "\n",
    "board = random_board(20)\n",
    "values = random_restarts(board, 20, \"stochastic\", 10)\n",
    "t.add_row(['Stochastic Hill', values[0], values[1], values[2], values[3], values[4], values[5], values[6]])\n",
    "\n",
    "board = random_board(30)\n",
    "values = random_restarts(board, 30, \"stochastic\", 10)\n",
    "t.add_row(['Stochastic Hill', values[0], values[1], values[2], values[3], values[4], values[5], values[6]])\n",
    "\n",
    "board = random_board(50)\n",
    "values = random_restarts(board, 50, \"stochastic\", 10)\n",
    "t.add_row(['Stochastic Hill', values[0], values[1], values[2], values[3], values[4], values[5], values[6]])"
   ]
  },
  {
   "cell_type": "code",
   "execution_count": 23,
   "metadata": {},
   "outputs": [
    {
     "name": "stdout",
     "output_type": "stream",
     "text": [
      "Optimal # of moves for an  4 x 4  board for Stochastic Hill 2:  2\n",
      "Optimal # of moves for an  8 x 8  board for Stochastic Hill 2:  3\n",
      "Optimal # of moves for an  20 x 20  board for Stochastic Hill 2:  15\n",
      "Optimal # of moves for an  30 x 30  board for Stochastic Hill 2:  16\n",
      "Optimal # of moves for an  50 x 50  board for Stochastic Hill 2:  30\n"
     ]
    }
   ],
   "source": [
    "board = random_board(4)\n",
    "values = random_restarts(board, 4, \"stochastic2\", 10)\n",
    "t.add_row(['Stochastic Hill 2', values[0], values[1], values[2], values[3], values[4], values[5], values[6]])\n",
    "\n",
    "board = random_board(8)\n",
    "values = random_restarts(board, 8, \"stochastic2\", 10)\n",
    "t.add_row(['Stochastic Hill 2',values[0], values[1], values[2], values[3], values[4], values[5], values[6]])\n",
    "\n",
    "board = random_board(20)\n",
    "values = random_restarts(board, 20, \"stochastic2\", 10)\n",
    "t.add_row(['Stochastic Hill 2', values[0], values[1], values[2], values[3], values[4], values[5], values[6]])\n",
    "\n",
    "board = random_board(30)\n",
    "values = random_restarts(board, 30, \"stochastic2\", 10)\n",
    "t.add_row(['Stochastic Hill 2', values[0], values[1], values[2], values[3], values[4], values[5], values[6]])\n",
    "\n",
    "board = random_board(50)\n",
    "values = random_restarts(board, 50, \"stochastic2\", 10)\n",
    "t.add_row(['Stochastic Hill 2', values[0], values[1], values[2], values[3], values[4], values[5], values[6]])"
   ]
  },
  {
   "cell_type": "markdown",
   "metadata": {},
   "source": [
    "## Local Search Algorithms Output Table"
   ]
  },
  {
   "cell_type": "code",
   "execution_count": 24,
   "metadata": {},
   "outputs": [
    {
     "data": {
      "text/html": [
       "<table>\n",
       "    <thead>\n",
       "        <tr>\n",
       "            <th>Algorithm</th>\n",
       "            <th>Board Size</th>\n",
       "            <th>Best Run (# Moves)</th>\n",
       "            <th>Worst Run (# Moves)</th>\n",
       "            <th>Average Run (# Moves)</th>\n",
       "            <th>Best Time (s)</th>\n",
       "            <th>Worst Time (s)</th>\n",
       "            <th>Average Time (s)</th>\n",
       "        </tr>\n",
       "    </thead>\n",
       "    <tbody>\n",
       "        <tr>\n",
       "            <td>Steepest Hill</td>\n",
       "            <td>4</td>\n",
       "            <td>2</td>\n",
       "            <td>5</td>\n",
       "            <td>3.0</td>\n",
       "            <td>0.0002219676971435547</td>\n",
       "            <td>0.0004942417144775391</td>\n",
       "            <td>0.00030112266540527344</td>\n",
       "        </tr>\n",
       "        <tr>\n",
       "            <td>Steepest Hill</td>\n",
       "            <td>8</td>\n",
       "            <td>3</td>\n",
       "            <td>64</td>\n",
       "            <td>57.9</td>\n",
       "            <td>0.0017580986022949219</td>\n",
       "            <td>0.03803682327270508</td>\n",
       "            <td>0.03405404090881348</td>\n",
       "        </tr>\n",
       "        <tr>\n",
       "            <td>Steepest Hill</td>\n",
       "            <td>20</td>\n",
       "            <td>9</td>\n",
       "            <td>400</td>\n",
       "            <td>360.9</td>\n",
       "            <td>0.0769658088684082</td>\n",
       "            <td>3.4968271255493164</td>\n",
       "            <td>3.098693060874939</td>\n",
       "        </tr>\n",
       "        <tr>\n",
       "            <td>Steepest Hill</td>\n",
       "            <td>30</td>\n",
       "            <td>14</td>\n",
       "            <td>900</td>\n",
       "            <td>635.1</td>\n",
       "            <td>0.39922475814819336</td>\n",
       "            <td>25.829905033111572</td>\n",
       "            <td>18.09726712703705</td>\n",
       "        </tr>\n",
       "        <tr>\n",
       "            <td>Steepest Hill</td>\n",
       "            <td>50</td>\n",
       "            <td>31</td>\n",
       "            <td>2500</td>\n",
       "            <td>2253.1</td>\n",
       "            <td>4.075005054473877</td>\n",
       "            <td>327.6363730430603</td>\n",
       "            <td>295.42992243766787</td>\n",
       "        </tr>\n",
       "        <tr>\n",
       "            <td>Stochastic Hill</td>\n",
       "            <td>4</td>\n",
       "            <td>2</td>\n",
       "            <td>5</td>\n",
       "            <td>2.6</td>\n",
       "            <td>0.0005080699920654297</td>\n",
       "            <td>0.0005240440368652344</td>\n",
       "            <td>0.00029585361480712893</td>\n",
       "        </tr>\n",
       "        <tr>\n",
       "            <td>Stochastic Hill</td>\n",
       "            <td>8</td>\n",
       "            <td>6</td>\n",
       "            <td>43</td>\n",
       "            <td>16.8</td>\n",
       "            <td>0.0038330554962158203</td>\n",
       "            <td>0.027196884155273438</td>\n",
       "            <td>0.010643410682678222</td>\n",
       "        </tr>\n",
       "        <tr>\n",
       "            <td>Stochastic Hill</td>\n",
       "            <td>20</td>\n",
       "            <td>12</td>\n",
       "            <td>113</td>\n",
       "            <td>35.9</td>\n",
       "            <td>0.10245203971862793</td>\n",
       "            <td>0.9646339416503906</td>\n",
       "            <td>0.30710749626159667</td>\n",
       "        </tr>\n",
       "        <tr>\n",
       "            <td>Stochastic Hill</td>\n",
       "            <td>30</td>\n",
       "            <td>17</td>\n",
       "            <td>104</td>\n",
       "            <td>35.7</td>\n",
       "            <td>0.48855090141296387</td>\n",
       "            <td>2.9610869884490967</td>\n",
       "            <td>1.0182075262069703</td>\n",
       "        </tr>\n",
       "        <tr>\n",
       "            <td>Stochastic Hill</td>\n",
       "            <td>50</td>\n",
       "            <td>28</td>\n",
       "            <td>64</td>\n",
       "            <td>43.1</td>\n",
       "            <td>3.7119550704956055</td>\n",
       "            <td>8.414623975753784</td>\n",
       "            <td>5.689429759979248</td>\n",
       "        </tr>\n",
       "        <tr>\n",
       "            <td>Stochastic Hill 2</td>\n",
       "            <td>4</td>\n",
       "            <td>2</td>\n",
       "            <td>4</td>\n",
       "            <td>2.9</td>\n",
       "            <td>0.00019693374633789062</td>\n",
       "            <td>0.0003781318664550781</td>\n",
       "            <td>0.0002839088439941406</td>\n",
       "        </tr>\n",
       "        <tr>\n",
       "            <td>Stochastic Hill 2</td>\n",
       "            <td>8</td>\n",
       "            <td>3</td>\n",
       "            <td>64</td>\n",
       "            <td>16.6</td>\n",
       "            <td>0.0017731189727783203</td>\n",
       "            <td>0.04005908966064453</td>\n",
       "            <td>0.010089778900146484</td>\n",
       "        </tr>\n",
       "        <tr>\n",
       "            <td>Stochastic Hill 2</td>\n",
       "            <td>20</td>\n",
       "            <td>15</td>\n",
       "            <td>75</td>\n",
       "            <td>32.2</td>\n",
       "            <td>0.12760615348815918</td>\n",
       "            <td>0.635422945022583</td>\n",
       "            <td>0.2739354133605957</td>\n",
       "        </tr>\n",
       "        <tr>\n",
       "            <td>Stochastic Hill 2</td>\n",
       "            <td>30</td>\n",
       "            <td>16</td>\n",
       "            <td>68</td>\n",
       "            <td>33.8</td>\n",
       "            <td>0.45615410804748535</td>\n",
       "            <td>1.9342689514160156</td>\n",
       "            <td>0.9644157409667968</td>\n",
       "        </tr>\n",
       "        <tr>\n",
       "            <td>Stochastic Hill 2</td>\n",
       "            <td>50</td>\n",
       "            <td>30</td>\n",
       "            <td>66</td>\n",
       "            <td>42.2</td>\n",
       "            <td>3.9278531074523926</td>\n",
       "            <td>8.608810901641846</td>\n",
       "            <td>5.5548807144165036</td>\n",
       "        </tr>\n",
       "    </tbody>\n",
       "</table>"
      ],
      "text/plain": [
       "|     Algorithm     | Board Size | Best Run (# Moves) | Worst Run (# Moves) | Average Run (# Moves) |     Best Time (s)      |     Worst Time (s)    |    Average Time (s)    |\n",
       "|:-----------------:|:----------:|:------------------:|:-------------------:|:---------------------:|:----------------------:|:---------------------:|:----------------------:|\n",
       "|   Steepest Hill   |     4      |         2          |          5          |          3.0          | 0.0002219676971435547  | 0.0004942417144775391 | 0.00030112266540527344 |\n",
       "|   Steepest Hill   |     8      |         3          |          64         |          57.9         | 0.0017580986022949219  |  0.03803682327270508  |  0.03405404090881348   |\n",
       "|   Steepest Hill   |     20     |         9          |         400         |         360.9         |   0.0769658088684082   |   3.4968271255493164  |   3.098693060874939    |\n",
       "|   Steepest Hill   |     30     |         14         |         900         |         635.1         |  0.39922475814819336   |   25.829905033111572  |   18.09726712703705    |\n",
       "|   Steepest Hill   |     50     |         31         |         2500        |         2253.1        |   4.075005054473877    |   327.6363730430603   |   295.42992243766787   |\n",
       "|  Stochastic Hill  |     4      |         2          |          5          |          2.6          | 0.0005080699920654297  | 0.0005240440368652344 | 0.00029585361480712893 |\n",
       "|  Stochastic Hill  |     8      |         6          |          43         |          16.8         | 0.0038330554962158203  |  0.027196884155273438 |  0.010643410682678222  |\n",
       "|  Stochastic Hill  |     20     |         12         |         113         |          35.9         |  0.10245203971862793   |   0.9646339416503906  |  0.30710749626159667   |\n",
       "|  Stochastic Hill  |     30     |         17         |         104         |          35.7         |  0.48855090141296387   |   2.9610869884490967  |   1.0182075262069703   |\n",
       "|  Stochastic Hill  |     50     |         28         |          64         |          43.1         |   3.7119550704956055   |   8.414623975753784   |   5.689429759979248    |\n",
       "| Stochastic Hill 2 |     4      |         2          |          4          |          2.9          | 0.00019693374633789062 | 0.0003781318664550781 | 0.0002839088439941406  |\n",
       "| Stochastic Hill 2 |     8      |         3          |          64         |          16.6         | 0.0017731189727783203  |  0.04005908966064453  |  0.010089778900146484  |\n",
       "| Stochastic Hill 2 |     20     |         15         |          75         |          32.2         |  0.12760615348815918   |   0.635422945022583   |   0.2739354133605957   |\n",
       "| Stochastic Hill 2 |     30     |         16         |          68         |          33.8         |  0.45615410804748535   |   1.9342689514160156  |   0.9644157409667968   |\n",
       "| Stochastic Hill 2 |     50     |         30         |          66         |          42.2         |   3.9278531074523926   |   8.608810901641846   |   5.5548807144165036   |"
      ]
     },
     "metadata": {},
     "output_type": "display_data"
    }
   ],
   "source": [
    "from prettytable import MARKDOWN\n",
    "from IPython.display import display, Markdown, Latex\n",
    "t.align = \"c\"\n",
    "t.set_style(MARKDOWN) # Display pretty table as Markdown\n",
    "display(t)"
   ]
  },
  {
   "cell_type": "code",
   "execution_count": 25,
   "metadata": {},
   "outputs": [],
   "source": [
    "import pandas as pd "
   ]
  },
  {
   "cell_type": "code",
   "execution_count": 26,
   "metadata": {},
   "outputs": [],
   "source": [
    "# Convert Table to Pandas Dataframe for Graph Purposes\n",
    "with open('output.csv', 'w', newline='') as f_output:\n",
    "    f_output.write(t.get_csv_string())\n",
    "f_output.close()\n",
    "    \n",
    "df = pd.read_csv('output.csv')"
   ]
  },
  {
   "cell_type": "markdown",
   "metadata": {},
   "source": [
    "## Final Analysis\n",
    "\n",
    "From the final analysis, I found that steepest hill is the **least efficient** algorithm of the three I implemented.\n",
    "From there, it appears that stochastic hill 1 and 2 have similar performances. Since they overlap each other, you would have to reference the output table to actually compare their overall performance. Judging from the table, however, I can see that the performances are similar for stochastic 1 and 2."
   ]
  },
  {
   "cell_type": "code",
   "execution_count": 27,
   "metadata": {},
   "outputs": [],
   "source": [
    "import seaborn as sns"
   ]
  },
  {
   "cell_type": "code",
   "execution_count": 28,
   "metadata": {},
   "outputs": [
    {
     "data": {
      "text/plain": [
       "<AxesSubplot:xlabel='Board Size', ylabel='Average Run (# Moves)'>"
      ]
     },
     "execution_count": 28,
     "metadata": {},
     "output_type": "execute_result"
    },
    {
     "data": {
      "image/png": "[encoded data removed]",
      "text/plain": [
       "<Figure size 432x288 with 1 Axes>"
      ]
     },
     "metadata": {
      "needs_background": "light"
     },
     "output_type": "display_data"
    }
   ],
   "source": [
    "# Graph the data as a lineplot for visualization purposes\n",
    "sns.lineplot(data=df, x=\"Board Size\", y=\"Average Run (# Moves)\", hue=\"Algorithm\")"
   ]
  },
  {
   "cell_type": "code",
   "execution_count": 29,
   "metadata": {},
   "outputs": [
    {
     "data": {
      "text/plain": [
       "<AxesSubplot:xlabel='Board Size', ylabel='Average Time (s)'>"
      ]
     },
     "execution_count": 29,
     "metadata": {},
     "output_type": "execute_result"
    },
    {
     "data": {
      "image/png": "[encoded data removed]",
      "text/plain": [
       "<Figure size 432x288 with 1 Axes>"
      ]
     },
     "metadata": {
      "needs_background": "light"
     },
     "output_type": "display_data"
    }
   ],
   "source": [
    "sns.lineplot(data=df, x=\"Board Size\", y=\"Average Time (s)\", hue=\"Algorithm\")"
   ]
  }
 ],
 "metadata": {
  "kernelspec": {
   "display_name": "Python 3 (ipykernel)",
   "language": "python",
   "name": "python3"
  },
  "language_info": {
   "codemirror_mode": {
    "name": "ipython",
    "version": 3
   },
   "file_extension": ".py",
   "mimetype": "text/x-python",
   "name": "python",
   "nbconvert_exporter": "python",
   "pygments_lexer": "ipython3",
   "version": "3.9.7"
  },
  "toc-autonumbering": false,
  "toc-showcode": false,
  "toc-showmarkdowntxt": false,
  "toc-showtags": false
 },
 "nbformat": 4,
 "nbformat_minor": 4
}
